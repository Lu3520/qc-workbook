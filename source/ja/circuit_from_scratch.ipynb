{
 "cells": [
  {
   "cell_type": "markdown",
   "metadata": {},
   "source": [
    "# 単純な量子回路をゼロから書く"
   ]
  },
  {
   "cell_type": "markdown",
   "metadata": {},
   "source": [
    "{doc}`第一回の前半 <chsh_inequality>`で、量子回路の基本的な書き方と実機での実行の仕方を学びました。そこで出てきたように、QCでは量子レジスタに特定の量子状態を実現することが計算を行うこととなります。\n",
    "\n",
    "後半では、基本的なゲートを組み合わせて様々な量子状態を作る実習を行います。\n",
    "\n",
    "```{contents} 目次\n",
    "---\n",
    "local: true\n",
    "---\n",
    "```\n",
    "\n",
    "$\\newcommand{ket}[1]{|#1\\rangle}$"
   ]
  },
  {
   "cell_type": "markdown",
   "metadata": {},
   "source": [
    "## シミュレータで量子状態を調べる\n",
    "\n",
    "前半で見たように、QCで実現される量子状態は、量子力学の公理に基づいて理論的に計算・予測できます。そこで用いられる数学的操作も単なる足し算や掛け算（線形演算）なので、実はQCの量子状態は（古典）計算機で比較的簡単に計算できます。当然のことですが、QCは何も魔法のブラックボックスというわけではありません。\n",
    "\n",
    "ただし、古典計算機で量子状態を再現するためには、特殊な場合を除いて、量子ビット数の指数関数的な量のメモリが必要になります。これも前半で見たように、$n$量子ビットあれば、系の自由度（degrees of freedom / d.o.f.: 実数自由パラメータの数）は$2^{n+1} - 2$ですので、例えば各自由度を64ビットの浮動小数点で表現するとしたら、必要なメモリは(-2を無視して)\n",
    "\n",
    "$$\n",
    "2^6\\, \\mathrm{(bits / d.o.f.)} \\times 2^{n+1}\\, \\mathrm{(d.o.f.)} \\times 2^{-3}\\, \\mathrm{(bytes / bit)} = 2^{n+4}\\, \\mathrm{(bytes)}\n",
    "$$\n",
    "\n",
    "なので、$n=16$で1 MiB、$n=26$で1 GiB、$n=36$で1 TiBです。現在の計算機では、よほどのハイエンドワークステーションでもRAMは$\\mathcal{O}(1)$ TiBなのに対し、QCではすでに$n>50$のものが存在するので、後者が使いこなせて有用な問題を解くことができればいわゆる「量子超越」(quantum supremacy)が達成されたということになります。\n",
    "\n",
    "話が逸れましたが、逆に言うと、$n \\sim 30$程度までの回路であれば、ある程度のスペックを持った計算機で厳密にシミュレートできるということが言えます。じっさい世の中には[数多くの](https://quantiki.org/wiki/list-qc-simulators)シミュレータが存在します。\n",
    "\n",
    "実機での計算に対するシミュレーションの利点として、\n",
    "\n",
    "- **量子振幅が直接見える**：実機では回路を繰り返し実行・測定することで計算基底に対する確率分布（＝量子振幅の絶対値自乗）を推定することができますが、複素位相までを含めた振幅の情報を知ることはできません。\n",
    "- **回路の途中の状態を調べられる**：実機でも回路を測定で中断することでその時点での状態をある程度調べることができますが、専用の回路を用意しなければいけません。\n",
    "- **エラーがない**：前半の実習の最後で見たように、NISQの実機には様々なエラーがあり、計算結果が予測と大きくずれることがあります。シミュレータではエラーの影響を受けずに純粋に回路の状態を調べることができます。\n",
    "\n",
    "などが挙げられます。\n",
    "\n",
    "Qiskitにも様々な高機能シミュレータが同梱されているので、その使い方と出力の読み方を説明します。\n",
    "\n",
    "まずは`Aer`というオブジェクトをインポートします。"
   ]
  },
  {
   "cell_type": "code",
   "execution_count": 1,
   "metadata": {},
   "outputs": [],
   "source": [
    "from qiskit import Aer"
   ]
  },
  {
   "cell_type": "markdown",
   "metadata": {},
   "source": [
    "`Aer`は前半に登場した`IBMQ`と同様の構造をしており、複数のシミュレータをバックエンドとして管理しています。量子振幅を直接観察するには、そのうちの`statevector_simulator`を使用します。"
   ]
  },
  {
   "cell_type": "code",
   "execution_count": 2,
   "metadata": {},
   "outputs": [],
   "source": [
    "simulator = Aer.get_backend('statevector_simulator')"
   ]
  },
  {
   "cell_type": "markdown",
   "metadata": {},
   "source": [
    "シミュレートする回路を作ります。ここでは例として前半で登場した回路1を使います。測定以外のゲートをかけていきます。"
   ]
  },
  {
   "cell_type": "code",
   "execution_count": 3,
   "metadata": {},
   "outputs": [
    {
     "data": {
      "text/plain": [
       "<qiskit.circuit.instructionset.InstructionSet at 0x7f01ef779400>"
      ]
     },
     "execution_count": 3,
     "metadata": {},
     "output_type": "execute_result"
    }
   ],
   "source": [
    "from qiskit import QuantumCircuit\n",
    "import numpy as np\n",
    "\n",
    "circuit = QuantumCircuit(2)\n",
    "circuit.h(0)\n",
    "circuit.cx(0, 1)\n",
    "circuit.ry(3. * np.pi / 4., 1)"
   ]
  },
  {
   "cell_type": "markdown",
   "metadata": {},
   "source": [
    "```{warning}\n",
    "回路に測定操作(`measure_all()`)を加えてしまうと、`statevector_simulator`を利用して測定前の回路の量子状態を確認することができなくなります。\n",
    "```\n",
    "\n",
    "シミュレーションを実行する際も、実機のバックエンドと同様に`execute`関数を使い、ジョブオブジェクトから結果を得ます。ただし、今回は計算結果からカウントではなく「状態ベクトル」（＝量子振幅の配列）を得るので`get_counts`ではなく`result.data()['statevector']`を参照します。"
   ]
  },
  {
   "cell_type": "code",
   "execution_count": 4,
   "metadata": {},
   "outputs": [
    {
     "name": "stdout",
     "output_type": "stream",
     "text": [
      "<class 'numpy.ndarray'> complex128\n",
      "[ 0.27059805+0.j -0.65328148+0.j  0.65328148+0.j  0.27059805+0.j]\n"
     ]
    }
   ],
   "source": [
    "from qiskit import execute\n",
    "job = execute(circuit, simulator)\n",
    "result = job.result()\n",
    "statevector = result.data()['statevector']\n",
    "\n",
    "print(type(statevector), statevector.dtype)\n",
    "print(statevector)"
   ]
  },
  {
   "cell_type": "markdown",
   "metadata": {},
   "source": [
    "状態ベクトルは[numpy](https://numpy.org/)の`ndarray`オブジェクトとして実装されています。データタイプは128ビットの複素数（実部と虚部それぞれ64ビット）です。アレイのインデックスがそのまま二進数としてみなした計算基底の値に対応しています。"
   ]
  },
  {
   "cell_type": "code",
   "execution_count": 5,
   "metadata": {},
   "outputs": [
    {
     "data": {
      "image/png": "[encoded data removed]",
      "text/plain": [
       "<Figure size 720x14.4 with 1 Axes>"
      ]
     },
     "metadata": {
      "needs_background": "light"
     },
     "output_type": "display_data"
    }
   ],
   "source": [
    "import matplotlib.pyplot as plt\n",
    "\n",
    "state_string = r'|\\psi\\rangle ='\n",
    "for idx in range(statevector.shape[0]):\n",
    "    angle = np.arcsin(statevector[idx].real * np.sqrt(2.))\n",
    "    norm_angle = np.round(angle / np.pi * 8.).astype(int)\n",
    "    state_string += r' sin({} \\pi / 8)|{}\\rangle'.format('' if norm_angle == 1 else norm_angle, idx)\n",
    "    if idx != statevector.shape[0] - 1:\n",
    "        state_string += '+'\n",
    "\n",
    "plt.figure(figsize=[10., 0.2])\n",
    "plt.axis('off')\n",
    "t = plt.text(0.5, 0.5, '${}$'.format(state_string), fontsize='xx-large')"
   ]
  },
  {
   "cell_type": "markdown",
   "metadata": {},
   "source": [
    "## その他のゲート\n",
    "\n",
    "前半でよく使われる1量子ビットゲートと2量子ビット制御ゲートを紹介しましたが、他にも知っておくと便利なゲートがいくつかあります。\n",
    "\n",
    "### 1、2量子ビット\n",
    "\n",
    "```{list-table}\n",
    ":header-rows: 1\n",
    "* - ゲート名\n",
    "  - 対象量子ビット数\n",
    "  - 説明\n",
    "  - Qiskitコード\n",
    "* - $U_1$, $P$\n",
    "  - 1\n",
    "  - パラメータ$\\phi$を取り、$\\ket{1}$に位相$e^{i\\phi}$をかける。$P(\\phi)$は$R_{z}(\\phi)$と等価なので、1量子ビットゲートとして利用する分にはどちらでも同じ結果が得られる。\n",
    "  - `circuit.p(phi, i)`\n",
    "* - $U_3$\n",
    "  - 1\n",
    "  - パラメータ$\\theta, \\phi, \\lambda$を取り、単一量子ビットの任意の状態を実現する。\n",
    "    ```{math}\n",
    "    U_3(\\theta, \\phi, \\lambda)\\ket{0} = \\cos\\left(\\frac{\\theta}{2}\\right) \\ket{0} + e^{i\\phi}\\sin\\left(\\frac{\\theta}{2}\\right) \\ket{1} \\\\\n",
    "    U_3(\\theta, \\phi, \\lambda)\\ket{1} = -e^{i\\lambda}\\sin\\left(\\frac{\\theta}{2}\\right) \\ket{0} + e^{i(\\phi+\\lambda)}\\cos\\left(\\frac{\\theta}{2}\\right) \\ket{1}\n",
    "    ```\n",
    "  - `circuit.u3(theta, phi, lambda, i)`\n",
    "* - $C^i_j[U_1]$, $C^i_j[P]$\n",
    "  - 2\n",
    "  - パラメータ$\\phi$を取り、ビット$i, j$が1であるような計算基底の位相を$\\phi$前進させる。\n",
    "    ```{math}\n",
    "    C^i_j[U_1(\\phi)] \\ket{00} = \\ket{00} \\\\\n",
    "    C^i_j[U_1(\\phi)] \\ket{01} = \\ket{01} \\\\\n",
    "    C^i_j[U_1(\\phi)] \\ket{10} = \\ket{10} \\\\\n",
    "    C^i_j[U_1(\\phi)] \\ket{11} = e^{i\\phi} \\ket{11}\n",
    "    ```\n",
    "  - `circuit.cp(phi, i, j)`\n",
    "* - SWAP\n",
    "  - 2\n",
    "  - 二つの量子ビットの量子状態を交換する。CNOT三回で実装できる。\n",
    "    ```{math}\n",
    "    \\begin{align}\n",
    "    & C^0_1[X]C^1_0[X]C^0_1[X] (\\alpha \\ket{00} + \\beta \\ket{01} + \\gamma \\ket{10} + \\delta \\ket{11}) \\\\\n",
    "    = & C^0_1[X]C^1_0[X] (\\alpha \\ket{00} + \\beta \\ket{01} + \\gamma \\ket{11} + \\delta \\ket{10}) \\\\\n",
    "    = & C^0_1[X] (\\alpha \\ket{00} + \\beta \\ket{11} + \\gamma \\ket{01} + \\delta \\ket{10}) \\\\\n",
    "    = & \\alpha \\ket{00} + \\beta \\ket{10} + \\gamma \\ket{01} + \\delta \\ket{11}\n",
    "    \\end{align}\n",
    "    ```\n",
    "  - `circuit.swap(i, j)`\n",
    "```\n",
    "\n",
    "### 3量子ビット以上\n",
    "\n",
    "量子レジスタに対する全ての操作が1量子ビットゲートと2量子ビット制御ゲート（実際にはCNOTのみ）の組み合わせで表現できることはすでに触れましたが、実際に量子回路を書くときには3つ以上の量子ビットにかかるゲートを使用したほうがアルゴリズムをコンパクトに表現できます。そのようなゲートを含む回路を実機で実行するときには、「トランスパイル」（transpilation）という過程を経て最終的には全て1量子ビットゲートとCNOTに自動的に分解されます。\n",
    "\n",
    "3量子ビット以上にかかるゲートも基本は制御ゲートで、よく使われるのは制御ビットが複数あるような多重制御（multi-controlled）ゲート$C^{ij\\dots}_{k}[U]$です。そのうち制御ビットが2つで標的ビット1つに$X$をかける$C^{ij}_{k}[X]$は特別多用され、Toffoliゲートとも呼ばれます。\n",
    "\n",
    "多重制御ゲートでない3量子ビットゲートの例として、controlled SWAPというものも存在します。制御ビット1つで他の2つの量子ビットの間の量子状態交換を制御します。当然制御ビットを増やしたmulti-controlled SWAPというものも考えられます。\n",
    "\n",
    "Qiskitで多重制御ゲートに対応するコードは一般に`circuit.mc?(parameters, [controls], target)`という形を取ります。例えばToffoliゲートは\n",
    "\n",
    "```{code-block} python\n",
    "circuit.mcx([i, j], k)\n",
    "```\n",
    "\n",
    "で、$C^{ij}_{k}[R_y]$は\n",
    "\n",
    "```{code-block} python\n",
    "circuit.mcry(theta, [i, j], k)\n",
    "```\n",
    "\n",
    "となります。"
   ]
  },
  {
   "cell_type": "markdown",
   "metadata": {},
   "source": [
    "## 量子状態生成\n",
    "\n",
    "それでは、これまでに登場したゲートを使って量子状態生成のエクササイズをしましょう。\n",
    "\n",
    "まずは回路の量子状態を表示する`show_state`という関数を定義します。"
   ]
  },
  {
   "cell_type": "code",
   "execution_count": 21,
   "metadata": {},
   "outputs": [],
   "source": [
    "def show_state(circuit, amp_norm=None, phase_norm=(np.pi, '\\pi')):\n",
    "    \"\"\"Print the quantum state of the circuit in latex markdown.\n",
    "    \n",
    "    Args:\n",
    "        circuit (QuantumCircuit): The circuit.\n",
    "        amp_norm (None or tuple): If not None, specify the normalization of the amplitudes by\n",
    "            (numeric devisor, unit in latex)\n",
    "        phase_norm (None or tuple): If not None, specify the normalization of the phases by\n",
    "            (numeric devisor, unit in latex)\n",
    "    \"\"\"\n",
    "\n",
    "    # Run the circuit in statevector_simulator and obtain the final state statevector\n",
    "    simulator = Aer.get_backend('statevector_simulator')\n",
    "    statevector = execute(circuit, simulator).result().data()['statevector']\n",
    "\n",
    "    # Absolute value and the phase of the amplitudes\n",
    "    absamp = np.abs(statevector)\n",
    "    logamp = np.zeros_like(statevector)\n",
    "    np.log(statevector, out=logamp, where=(absamp > 0.))\n",
    "    phase = logamp.imag\n",
    "    \n",
    "    # Set the numerical tolerance for various comparisons\n",
    "    tolerance = 1.e-3\n",
    "        \n",
    "    # Final latex string\n",
    "    state = ''\n",
    "    \n",
    "    if amp_norm is not None:\n",
    "        state += r'{} \\left('.format(amp_norm[1])\n",
    "    \n",
    "    # Sign of each term (initialized to 0 so the first term doesn't get a + in front)\n",
    "    sign = 0\n",
    "    \n",
    "    for idx in range(statevector.shape[0]):\n",
    "        a = absamp[idx]\n",
    "        p = phase[idx]\n",
    "        \n",
    "        # Skip terms with absolute amplitude less than tolerance\n",
    "        if a < tolerance:\n",
    "            continue\n",
    "\n",
    "        # Latex string for this term\n",
    "        basis_term = ''\n",
    "\n",
    "        # Write the amplitude\n",
    "        if amp_norm is None:\n",
    "            # No amplitude normalization -> just write as a raw float\n",
    "            basis_term += '{:.2f}'.format(a)\n",
    "        else:\n",
    "            # With amplitude normalization\n",
    "            a /= amp_norm[0]\n",
    "            \n",
    "            if abs(a - np.round(a)) < tolerance:\n",
    "                # Amplitude is integer * norm\n",
    "                if np.round(a) != 1.:\n",
    "                    basis_term += '{:d}'.format(np.round(a).astype(int))\n",
    "            else:\n",
    "                # Otherwise float * norm\n",
    "                basis_term += '{:.2f}'.format(a)\n",
    "\n",
    "        # Write the phase\n",
    "        if abs(p) > tolerance:\n",
    "            while p < 0.:\n",
    "                p += 2. * np.pi\n",
    "            \n",
    "            # First check if the phase is a multiple of pi or pi/2\n",
    "            pbypi = p / np.pi\n",
    "            if abs(pbypi - np.round(pbypi)) < tolerance:\n",
    "                # Multiple of pi\n",
    "                pbypi = abs(np.round(pbypi).astype(int))\n",
    "                if pbypi % 2 == 1:\n",
    "                    sign = -1\n",
    "            elif abs(2. * pbypi - np.round(2. * pbypi)) < tolerance:\n",
    "                # Multiple of pi/2\n",
    "                twopbypi = np.round(2. * pbypi).astype(int)\n",
    "                if twopbypi % 2 == 1:\n",
    "                    basis_term += 'i'\n",
    "                if twopbypi % 4 == 3:\n",
    "                    sign = -1\n",
    "            else:\n",
    "                basis_term += 'e^{'\n",
    "                if phase_norm is None:\n",
    "                    # No phase normalization -> write as exp(raw float * i)\n",
    "                    basis_term += '{:.2f}'.format(p)\n",
    "                else:\n",
    "                    # With phase normalization -> write as exp(divident * norm * i)\n",
    "                    p /= phase_norm[0]\n",
    "                    \n",
    "                    if abs(p - np.round(p)) < tolerance:\n",
    "                        if np.round(p) != 1.:\n",
    "                            basis_term += r'{:d} \\cdot '.format(np.round(p).astype(int))\n",
    "                    else:\n",
    "                        basis_term += r'{:.2f} \\cdot '.format(p)\n",
    "\n",
    "                    basis_term += phase_norm[1]\n",
    "\n",
    "                basis_term += r' i}'\n",
    "                \n",
    "        basis_term += r' |{}\\rangle'.format(idx)\n",
    "\n",
    "        if sign == 1:\n",
    "            state += ' + '\n",
    "        elif sign == -1:\n",
    "            state += ' - '\n",
    "            \n",
    "        state += basis_term\n",
    "        \n",
    "        sign = 1\n",
    "        \n",
    "    if amp_norm is not None:\n",
    "        state += r'\\right)'\n",
    "    \n",
    "    plt.figure(figsize=[10., 0.2])\n",
    "    plt.axis('off')\n",
    "    plt.text(0.5, 0.5, '${}$'.format(state), fontsize='xx-large')"
   ]
  },
  {
   "cell_type": "markdown",
   "metadata": {},
   "source": [
    "### 問題1: 1量子ビット、相対位相付き\n",
    "\n",
    "**問題**\n",
    "\n",
    "1量子ビットに対して状態\n",
    "\n",
    "$$\n",
    "\\frac{1}{\\sqrt{2}}\\left(\\ket{0} + i\\ket{1}\\right)\n",
    "$$\n",
    "\n",
    "を作りなさい。"
   ]
  },
  {
   "cell_type": "code",
   "execution_count": 7,
   "metadata": {
    "tags": [
     "remove-output"
    ]
   },
   "outputs": [
    {
     "data": {
      "image/png": "[encoded data removed]",
      "text/plain": [
       "<Figure size 720x14.4 with 1 Axes>"
      ]
     },
     "metadata": {
      "needs_background": "light"
     },
     "output_type": "display_data"
    }
   ],
   "source": [
    "circuit = QuantumCircuit(1)\n",
    "##################\n",
    "### EDIT BELOW ###\n",
    "##################\n",
    "circuit.h(0)\n",
    "# circuit.?\n",
    "##################\n",
    "### EDIT ABOVE ###\n",
    "##################\n",
    "\n",
    "show_state(circuit, amp_norm=(np.sqrt(0.5), r'\\frac{1}{\\sqrt{2}}'))"
   ]
  },
  {
   "cell_type": "markdown",
   "metadata": {},
   "source": [
    "**解答**\n",
    "\n",
    "````{toggle}\n",
    "正解は無限に存在しますが、上の回路ですでにアダマールゲートがかかっているので、最も手っ取り早いのは\n",
    "\n",
    "```{code-block} python\n",
    "circuit.h(0)\n",
    "circuit.p(np.pi / 2., 0)\n",
    "```\n",
    "\n",
    "でしょう。自分で入力して確認してみてください。\n",
    "\n",
    "また、上で触れたように、単一量子ビットの場合、$U_3$ゲートを使えば任意の状態を一つのゲート操作で生成できます。$U_3$を使った解答は\n",
    "\n",
    "```{code-block} python\n",
    "circuit.u3(np.pi / 2., np.pi / 2., 0., 0)\n",
    "```\n",
    "\n",
    "です。\n",
    "````"
   ]
  },
  {
   "cell_type": "markdown",
   "metadata": {},
   "source": [
    "### 問題2: ベル状態、相対位相付き\n",
    "\n",
    "**問題**\n",
    "\n",
    "2量子ビットに対して状態\n",
    "\n",
    "$$\n",
    "\\frac{1}{\\sqrt{2}}\\left(\\ket{0} + i\\ket{3}\\right)\n",
    "$$\n",
    "\n",
    "を作りなさい。"
   ]
  },
  {
   "cell_type": "code",
   "execution_count": 8,
   "metadata": {
    "tags": [
     "remove-output"
    ]
   },
   "outputs": [
    {
     "data": {
      "image/png": "[encoded data removed]",
      "text/plain": [
       "<Figure size 720x14.4 with 1 Axes>"
      ]
     },
     "metadata": {
      "needs_background": "light"
     },
     "output_type": "display_data"
    }
   ],
   "source": [
    "circuit = QuantumCircuit(2)\n",
    "\n",
    "##################\n",
    "### EDIT BELOW ###\n",
    "##################\n",
    "# circuit.?\n",
    "circuit.cx(0, 1)\n",
    "##################\n",
    "### EDIT ABOVE ###\n",
    "##################\n",
    "\n",
    "show_state(circuit, amp_norm=(np.sqrt(0.5), r'\\frac{1}{\\sqrt{2}}'))"
   ]
  },
  {
   "cell_type": "markdown",
   "metadata": {},
   "source": [
    "**解答**\n",
    "\n",
    "````{toggle}\n",
    "問題1の結果を利用すると簡単です。初期状態は両ビットとも$\\ket{0}$なので、2ビットレジスタに対して問題1の操作をすると状態$1/\\sqrt{2}(\\ket{0} + i\\ket{1})\\ket{0}$ができます。ここでビット0から1にCNOTをかけると、$\\ket{1}\\ket{0} \\rightarrow \\ket{1}\\ket{1}$となるので、望む状態が実現します。\n",
    "\n",
    "```{code-block} python\n",
    "circuit.h(0)\n",
    "circuit.p(np.pi / 2., 0)\n",
    "circuit.cx(0, 1)\n",
    "```\n",
    "````"
   ]
  },
  {
   "cell_type": "markdown",
   "metadata": {},
   "source": [
    "### 問題3: GHZ状態\n",
    "\n",
    "**問題**\n",
    "\n",
    "3量子ビットに対して状態\n",
    "\n",
    "$$\n",
    "\\frac{1}{\\sqrt{2}} (\\ket{0} + \\ket{7})\n",
    "$$\n",
    "\n",
    "を作りなさい。"
   ]
  },
  {
   "cell_type": "code",
   "execution_count": 9,
   "metadata": {
    "tags": [
     "remove-output"
    ]
   },
   "outputs": [
    {
     "data": {
      "image/png": "[encoded data removed]",
      "text/plain": [
       "<Figure size 720x14.4 with 1 Axes>"
      ]
     },
     "metadata": {
      "needs_background": "light"
     },
     "output_type": "display_data"
    }
   ],
   "source": [
    "circuit = QuantumCircuit(3)\n",
    "\n",
    "##################\n",
    "### EDIT BELOW ###\n",
    "##################\n",
    "# circuit.?\n",
    "circuit.mcx([0, 1], 2)\n",
    "##################\n",
    "### EDIT ABOVE ###\n",
    "##################\n",
    "\n",
    "show_state(circuit, amp_norm=(np.sqrt(0.5), r'\\frac{1}{\\sqrt{2}}'))"
   ]
  },
  {
   "cell_type": "markdown",
   "metadata": {
    "tags": [
     "hide-cell"
    ]
   },
   "source": [
    "**解答**\n",
    "\n",
    "````{toggle}\n",
    "Bell状態の生成と発想は同じですが、多重制御ゲート$C^{01}_2[X]$を利用します。\n",
    "\n",
    "```{code-block} python\n",
    "circuit.h(0)\n",
    "circuit.cx(0, 1)\n",
    "circuit.mcx([0, 1], 2)\n",
    "```\n",
    "````"
   ]
  },
  {
   "cell_type": "markdown",
   "metadata": {},
   "source": [
    "### 問題4: Equal superposition\n",
    "\n",
    "**問題**\n",
    "\n",
    "一般の$n$量子ビットに対して状態\n",
    "\n",
    "$$\n",
    "\\frac{1}{\\sqrt{2^n}} \\sum_{k=0}^{2^n-1} \\ket{k}\n",
    "$$\n",
    "\n",
    "を作る回路を考え、$n=4$のケースを実装しなさい。"
   ]
  },
  {
   "cell_type": "code",
   "execution_count": 10,
   "metadata": {
    "tags": [
     "remove-output"
    ]
   },
   "outputs": [
    {
     "data": {
      "image/png": "[encoded data removed]",
      "text/plain": [
       "<Figure size 720x14.4 with 1 Axes>"
      ]
     },
     "metadata": {
      "needs_background": "light"
     },
     "output_type": "display_data"
    }
   ],
   "source": [
    "num_qubits = 4\n",
    "\n",
    "circuit = QuantumCircuit(num_qubits)\n",
    "\n",
    "##################\n",
    "### EDIT BELOW ###\n",
    "##################\n",
    "# circuit.?\n",
    "##################\n",
    "### EDIT ABOVE ###\n",
    "##################\n",
    "\n",
    "sqrt_2_to_n = np.sqrt(2 ** num_qubits)\n",
    "show_state(circuit, amp_norm=(1. / sqrt_2_to_n, r'\\frac{1}{' + str(int(sqrt_2_to_n)) + '}'))"
   ]
  },
  {
   "cell_type": "markdown",
   "metadata": {
    "tags": [
     "hide-cell"
    ]
   },
   "source": [
    "**解答**\n",
    "\n",
    "````{toggle}\n",
    "Equal superpositionと呼ばれるこの状態は、量子計算でおそらく一番多様される状態です。一見複雑に思えますが、$n$桁の二進数で$0$から$2^n-1$までの数を表現すると、全ての0/1の組み合わせが登場するということを考えると、\n",
    "\n",
    "$$\n",
    "\\frac{1}{\\sqrt{2^n}} \\sum_{k=0}^{2^n-1} \\ket{k} = \\frac{1}{\\sqrt{2}}(\\ket{0} + \\ket{1}) \\otimes \\frac{1}{\\sqrt{2}}(\\ket{0} + \\ket{1}) \\otimes \\cdots \\otimes \\frac{1}{\\sqrt{2}}(\\ket{0} + \\ket{1})\n",
    "$$\n",
    "\n",
    "と、$n$個の$1/\\sqrt{2}(\\ket{0} + \\ket{1})$の積と等しいことがわかります。つまり各ビットに対してアダマールゲートをかけた状態にほかならず、\n",
    "\n",
    "```{code-block} python\n",
    "for i in range(4):\n",
    "    circuit.h(i)\n",
    "```\n",
    "が正解です。\n",
    "````"
   ]
  },
  {
   "cell_type": "markdown",
   "metadata": {},
   "source": [
    "### 問題5: 特定の基底の符号を反転させる\n",
    "\n",
    "**問題**\n",
    "\n",
    "問題4の4ビットequal superposition状態において、基底$\\ket{5}$の符号を反転させなさい。"
   ]
  },
  {
   "cell_type": "code",
   "execution_count": 11,
   "metadata": {
    "tags": [
     "remove-output"
    ]
   },
   "outputs": [
    {
     "data": {
      "image/png": "[encoded data removed]",
      "text/plain": [
       "<Figure size 720x14.4 with 1 Axes>"
      ]
     },
     "metadata": {
      "needs_background": "light"
     },
     "output_type": "display_data"
    }
   ],
   "source": [
    "num_qubits = 4\n",
    "\n",
    "circuit = QuantumCircuit(num_qubits)\n",
    "\n",
    "##################\n",
    "### EDIT BELOW ###\n",
    "##################\n",
    "for i in range(num_qubits):\n",
    "    circuit.h(i)\n",
    "    \n",
    "# circuit.?\n",
    "##################\n",
    "### EDIT ABOVE ###\n",
    "##################\n",
    "\n",
    "sqrt_2_to_n = np.sqrt(2 ** num_qubits)\n",
    "show_state(circuit, amp_norm=(1. / sqrt_2_to_n, r'\\frac{1}{' + str(int(sqrt_2_to_n)) + '}'))"
   ]
  },
  {
   "cell_type": "markdown",
   "metadata": {
    "tags": [
     "hide-cell"
    ]
   },
   "source": [
    "**解答**\n",
    "\n",
    "````{toggle}\n",
    "$\\ket{5}=\\ket{0101}$の符号を反転させるには、4つの量子ビットが0, 1, 0, 1という値を取っている状態のみに作用するゲートを使います。必然的に多重制御ゲートが用いられますが、残念ながら制御ゲートはビットの値が1であるときにしか働きません。そこで、まず$\\ket{0101}$を$\\ket{1111}$に変換し、その上で$C^{012}_{3}[P(\\pi)]$を使います[^mcz]。符号を反転させたら、最初の操作の逆操作をして$\\ket{1111}$を$\\ket{0101}$に変換します。\n",
    "\n",
    "```{code-block} python\n",
    "for i in range(4):\n",
    "    circuit.h(i)\n",
    "\n",
    "circuit.x(1)\n",
    "circuit.x(3)\n",
    "circuit.mcp(np.pi, [0, 1, 2], 3)\n",
    "circuit.x(1) # Xの逆操作はX\n",
    "circuit.x(3)\n",
    "```\n",
    "\n",
    "ビット1と3にかかっている$X$ゲートは当然他の基底にも影響するので、例えば$\\ket{0011}$は$\\ket{0110}$となります。しかし、1と3に$X$をかけて$\\ket{1111}$になるのは$\\ket{0101}$だけなので、逆操作でちゃんと「後片付け」さえすれば、この一連の操作で$\\ket{5}$だけをいじることができます。\n",
    "\n",
    "[^mcz]: （多重）制御$P$ゲートはどのビットを制御と呼んでも標的と呼んでも同じ作用をするので、$C^{123}_0[P(\\pi)]$でもなんでも構いません。\n",
    "````"
   ]
  },
  {
   "cell_type": "markdown",
   "metadata": {},
   "source": [
    "### 問題6: Equal superpositionに位相を付ける\n",
    "\n",
    "**問題**\n",
    "\n",
    "一般の$n$量子ビットに対して状態\n",
    "\n",
    "$$\n",
    "\\frac{1}{\\sqrt{2^n}}\\sum_{k=0}^{2^n-1} e^{2\\pi i s k/2^n} \\ket{k} \\quad (s \\in \\mathbb{R})\n",
    "$$\n",
    "\n",
    "を作る回路を考え、$n=6, s=2.5$のケースを実装しなさい。"
   ]
  },
  {
   "cell_type": "code",
   "execution_count": 12,
   "metadata": {
    "tags": [
     "output_scroll",
     "remove-output"
    ]
   },
   "outputs": [
    {
     "data": {
      "image/png": "[encoded data removed]",
      "text/plain": [
       "<Figure size 720x14.4 with 1 Axes>"
      ]
     },
     "metadata": {
      "needs_background": "light"
     },
     "output_type": "display_data"
    }
   ],
   "source": [
    "num_qubits = 6\n",
    "\n",
    "circuit = QuantumCircuit(num_qubits)\n",
    "\n",
    "s = 2.5\n",
    "\n",
    "##################\n",
    "### EDIT BELOW ###\n",
    "##################\n",
    "#for i in range(num_qubits):\n",
    "#    circuit.h(i)\n",
    "    \n",
    "# circuit.?\n",
    "##################\n",
    "### EDIT ABOVE ###\n",
    "##################\n",
    "\n",
    "sqrt_2_to_n = np.sqrt(2 ** num_qubits)\n",
    "show_state(circuit, amp_norm=(1. / sqrt_2_to_n, r'\\frac{1}{' + str(int(sqrt_2_to_n)) + '}'), phase_norm=(2 * np.pi / (2 ** num_qubits), r'\\frac{2 \\pi i}{' + str(2 ** num_qubits) + '}'))"
   ]
  },
  {
   "cell_type": "markdown",
   "metadata": {
    "tags": [
     "hide-cell"
    ]
   },
   "source": [
    "**解答**\n",
    "\n",
    "````{toggle}\n",
    "この回路は次の問題の量子フーリエ変換と深く関係しますが、量子フーリエ変換では任意の状態$\\ket{s}$（このとき$s$は整数）を上の状態に変換するのに対し、この問題では$s$は外から与えられているパラメータです。そのため回路もだいぶ簡単になり、実は制御ゲートなしで実装できます。\n",
    "\n",
    "問題4と同じように、この状態も個々の量子ビットにおける$\\ket{0}$と$\\ket{1}$の重ね合わせの積として表現できます。そのためには$k$の二進数表現$k = \\sum_{m=0}^{n-1} 2^m k_m \\, (k_m=0,1)$を用いて、$\\ket{k}$の位相を\n",
    "\n",
    "$$\n",
    "\\exp\\left(2\\pi i \\frac{sk}{2^n}\\right) = \\exp \\left(2\\pi i \\frac{s}{2^n} \\sum_{m=0}^{n-1} 2^m k_m\\right) = \\prod_{m=0}^{n-1} \\exp \\left(2\\pi i \\frac{s}{2^{n-m}} k_m\\right)\n",
    "$$\n",
    "\n",
    "と分解します。一方\n",
    "\n",
    "$$\n",
    "\\ket{k} = \\ket{k_{n-1}} \\otimes \\ket{k_{n-2}} \\otimes \\cdots \\ket{k_0}\n",
    "$$\n",
    "\n",
    "なので、\n",
    "\n",
    "$$\n",
    "e^{2\\pi i sk/2^n} \\ket{k} = e^{2\\pi i sk_{n-1}/2} \\ket{k_{n-1}} \\otimes \\cdots \\otimes e^{2\\pi i sk_{1}/2^{n-1}} \\ket{k_1} \\otimes e^{2\\pi i sk_{0}/2^n} \\ket{k_{0}}.\n",
    "$$\n",
    "\n",
    "最後に、$k_m = 0$ならば$e^{2\\pi i sk_{m}/2^n} = 1$であることから、\n",
    "\n",
    "$$\n",
    "\\frac{1}{\\sqrt{2^n}}\\sum_{k=0}^{2^n-1} e^{2\\pi i sk/2^n} \\ket{k} = \\frac{1}{\\sqrt{2}} \\left(\\ket{0} + e^{2\\pi i s/2} \\ket{1}\\right) \\otimes \\cdots \\otimes \\frac{1}{\\sqrt{2}} \\left(\\ket{0} + e^{2\\pi i s/2^n} \\ket{1}\\right)\n",
    "$$\n",
    "\n",
    "がわかります。\n",
    "\n",
    "```{code-block} python\n",
    "for m in range(num_qubits):\n",
    "    circuit.h(m)\n",
    "    circuit.p(2. * np.pi * s / (2 ** (num_qubits - m)), m)\n",
    "```\n",
    "\n",
    "が正解となります。\n",
    "````"
   ]
  },
  {
   "cell_type": "markdown",
   "metadata": {},
   "source": [
    "### 問題7: 量子フーリエ変換\n",
    "\n",
    "**問題**\n",
    "\n",
    "$n$量子ビットレジスタの状態$\\ket{j} \\, (j \\in \\{0,1,\\dots,2^n-1\\})$を以下のように変換する回路を考え、$n=6, j=23$のケースを実装しなさい。\n",
    "\n",
    "$$\n",
    "\\ket{j} \\rightarrow \\frac{1}{\\sqrt{2^n}}\\sum_{k=0}^{2^n-1} e^{2\\pi i jk/2^n} \\ket{k}\n",
    "$$"
   ]
  },
  {
   "cell_type": "code",
   "execution_count": 38,
   "metadata": {
    "tags": [
     "output_scroll",
     "remove-output"
    ]
   },
   "outputs": [
    {
     "name": "stdout",
     "output_type": "stream",
     "text": [
      "[-4.89858720e-16  2.25801972e+00 -1.76714587e+00  4.90873852e-01\n",
      "  2.74889357e+00 -1.27627202e+00  9.81747704e-01 -3.04341788e+00\n",
      " -7.85398163e-01  1.47262156e+00 -2.55254403e+00 -2.94524311e-01\n",
      "  1.96349541e+00 -2.06167018e+00  1.96349541e-01  2.45436926e+00\n",
      " -1.57079633e+00  6.87223393e-01  2.94524311e+00 -1.07992247e+00\n",
      "  1.17809725e+00 -2.84706834e+00 -5.89048623e-01  1.66897110e+00\n",
      " -2.35619449e+00 -9.81747704e-02  2.15984495e+00 -1.86532064e+00\n",
      "  3.92699082e-01  2.65071880e+00 -1.37444679e+00  8.83572934e-01\n",
      "  3.14159265e+00 -8.83572934e-01  1.37444679e+00 -2.65071880e+00\n",
      " -3.92699082e-01  1.86532064e+00 -2.15984495e+00  9.81747704e-02\n",
      "  2.35619449e+00 -1.66897110e+00  5.89048623e-01  2.84706834e+00\n",
      " -1.17809725e+00  1.07992247e+00 -2.94524311e+00 -6.87223393e-01\n",
      "  1.57079633e+00 -2.45436926e+00 -1.96349541e-01  2.06167018e+00\n",
      " -1.96349541e+00  2.94524311e-01  2.55254403e+00 -1.47262156e+00\n",
      "  7.85398163e-01  3.04341788e+00 -9.81747704e-01  1.27627202e+00\n",
      " -2.74889357e+00 -4.90873852e-01  1.76714587e+00 -2.25801972e+00]\n"
     ]
    },
    {
     "data": {
      "image/png": "[encoded data removed]",
      "text/plain": [
       "<Figure size 720x14.4 with 1 Axes>"
      ]
     },
     "metadata": {
      "needs_background": "light"
     },
     "output_type": "display_data"
    }
   ],
   "source": [
    "num_qubits = 6\n",
    "\n",
    "circuit = QuantumCircuit(num_qubits)\n",
    "\n",
    "j = 23\n",
    "\n",
    "# jの二進数表現で値が1になっているビットに対してXを作用させる -> 状態|j>を作る\n",
    "for i in range(num_qubits):\n",
    "    if ((j >> i) & 1) == 1:\n",
    "        circuit.x(i)\n",
    "\n",
    "##################\n",
    "### EDIT BELOW ###\n",
    "##################\n",
    "# circuit.?\n",
    "##################\n",
    "### EDIT ABOVE ###\n",
    "##################\n",
    "\n",
    "sqrt_2_to_n = np.sqrt(2 ** num_qubits)\n",
    "show_state(circuit, amp_norm=(1. / sqrt_2_to_n, r'\\frac{1}{' + str(int(sqrt_2_to_n)) + '}'), phase_norm=(2 * np.pi / (2 ** num_qubits), r'\\frac{2 \\pi i}{' + str(2 ** num_qubits) + '}'))"
   ]
  },
  {
   "cell_type": "markdown",
   "metadata": {},
   "source": [
    "この操作は量子フーリエ変換（Quantum Fourier transform, QFT）と呼ばれ、{doc}`Shorの素因数分解 <shor>`を含め多くのアルゴリズムに応用されています。現在知られている中で最も重要な量子プリミティブ（アルゴリズムの部品）と言っても過言ではないでしょう。\n",
    "\n",
    "古典コンピュータで離散フーリエ変換$j \\rightarrow \\{e^{2 \\pi i j k/2^n}\\}_k$を計算するには$\\mathcal{O}(n2^n)$回の演算が必要であることが知られています。一方、QFTは$\\mathcal{O}(n \\log n)$個のゲートしか利用しません。QFTは量子超越が実現されている計算の好例です。\n",
    "\n",
    "**解答**\n",
    "\n",
    "````{toggle}\n",
    "前の問題同様、基本は$H$ゲート$P$ゲートを使っていきますが、今回は$\\ket{j}$という「入力」があるので、制御ゲートを利用する必要があります。\n",
    "\n",
    "ビットn-1に着目しましょう。前回同様$j_m \\, (m=0,\\dots,n-1, \\, j_m=0,1)$を使って$j$の二進数表現を$j=\\sum_{m=0}^{n-1} 2^m j_m$としておきます。ビットn-1の初期状態は$\\ket{j_{n-1}}_{n-1}$なので、アダマールゲートをかけると\n",
    "\n",
    "$$\n",
    "H\\ket{j_{n-1}}_{n-1} = \\frac{1}{\\sqrt{2}} \\left[\\ket{0}_{n-1} + e^{2 \\pi i \\frac{j_{n-1}}{2}} \\ket{1}_{n-1}\\right]\n",
    "$$\n",
    "\n",
    "です。さらに、$j_{0}, \\dots j_{n-2}$の情報をこのビットに盛り込むためにビット0からn-2まででそれぞれ制御した$C^m_{n-1}[P]$を使います。ただし、かける位相は制御ビットごとに異なります。\n",
    "\n",
    "$$\n",
    "\\begin{align}\n",
    "& C^{n-2}_{n-1}\\left[P\\left(\\frac{2^{n-2} \\cdot 2 \\pi i}{2^n}\\right)\\right] \\cdots C^{0}_{n-1}\\left[P\\left(\\frac{2 \\pi i}{2^n}\\right)\\right] (H\\ket{j_{n-1}}_{n-1}) \\ket{j_{n-2}}_{n-2} \\cdots \\ket{j_0}_0 \\\\\n",
    "= & \\frac{1}{\\sqrt{2}} \\left[\\ket{0}_{n-1} + \\exp \\left(2 \\pi i \\frac{\\sum_{m=0}^{n-1} 2^{m} j_m}{2^n}\\right) \\ket{1}_{n-1}\\right] \\ket{j_{n-2}}_{n-2} \\cdots \\ket{j_0}_0\n",
    "\\end{align}\n",
    "$$\n",
    "\n",
    "次に、ビットn-2にも同様の操作をします。ただし、制御はビットn-3以下からのみです。\n",
    "\n",
    "$$\n",
    "\\begin{align}\n",
    "& C^{n-3}_{n-2}\\left[P\\left(\\frac{2^{n-2} \\cdot 2 \\pi i}{2^n}\\right)\\right] \\cdots C^{0}_{n-2}\\left[P\\left(\\frac{2 \\cdot 2 \\pi i}{2^n}\\right)\\right] (H\\ket{j_{n-2}}_{n-2}) \\cdots \\ket{j_0}_0 \\\\\n",
    "= & \\frac{1}{\\sqrt{2}} \\left[\\ket{0}_{n-2} + \\exp \\left(2 \\pi i \\frac{2 \\sum_{m=0}^{n-2} 2^{m} j_m}{2^n}\\right) \\ket{1}_{n-2}\\right] \\ket{j_{n-3}}_{n-3} \\cdots \\ket{j_0}_0\n",
    "\\end{align}\n",
    "$$\n",
    "\n",
    "これをビット0まで繰り返します。制御は常に位数の小さいビットからです。\n",
    "\n",
    "$$\n",
    "\\begin{align}\n",
    "& C^{n-4}_{n-3}\\left[P\\left(\\frac{2^{n-2} \\cdot 2 \\pi i}{2^n}\\right)\\right] \\cdots C^{0}_{n-3}\\left[P\\left(\\frac{2^2 \\cdot 2 \\pi i}{2^n}\\right)\\right] (H\\ket{j_{n-3}}_{n-3}) \\cdots \\ket{j_0}_0 \\\\\n",
    "= & \\frac{1}{\\sqrt{2}} \\left[\\ket{0}_{n-3} + \\exp \\left(2 \\pi i \\frac{2^2 \\sum_{m=0}^{n-3} 2^{m} j_m}{2^n}\\right) \\ket{1}_{n-3}\\right] \\ket{j_{n-4}}_{n-4} \\cdots \\ket{j_0}_0\n",
    "\\end{align}\n",
    "$$\n",
    "\n",
    "$$\n",
    "\\dots\n",
    "$$\n",
    "\n",
    "$$\n",
    "\\begin{align}\n",
    "& C^{0}_{1}\\left[P\\left(\\frac{2^{n-2} \\cdot 2 \\pi i}{2^n}\\right)\\right] (H\\ket{j_{1}}_{1}) \\ket{j_0}_0 \\\\\n",
    "= & \\frac{1}{\\sqrt{2}} \\left[\\ket{0}_{1} + \\exp \\left(2 \\pi i \\frac{2^{n-2} \\sum_{m=0}^{1} 2^{m} j_m}{2^n}\\right) \\ket{1}_{1}\\right] \\ket{j_0}_0\n",
    "\\end{align}\n",
    "$$\n",
    "\n",
    "$$\n",
    "\\begin{align}\n",
    "& H\\ket{j_0}_0 \\\\\n",
    "= & \\frac{1}{\\sqrt{2}} \\left[\\ket{0}_0 + \\exp \\left(2 \\pi i \\frac{2^{n-1} \\sum_{m=0}^{0} 2^{m} j_m}{2^n}\\right) \\ket{1}_{0}\\right].\n",
    "\\end{align}\n",
    "$$\n",
    "\n",
    "ここまでの全ての操作を順に適用すると、\n",
    "\n",
    "$$\n",
    "(H_0) (C^{0}_{1}[P]H_1) \\cdots (C^{n-2}_{n-1}[P] \\cdots C^{0}_{n-1}[P]H_{n-1}) \\, \\ket{j_{n-1}}_{n-1} \\ket{j_{n-2}}_{n-2} \\cdots \\ket{j_{0}}_0 \\\\\n",
    "= \\frac{1}{\\sqrt{2^n}} \\left[\\ket{0}_{n-1} + \\exp \\left(2 \\pi i \\frac{\\sum_{m=0}^{n-1} 2^{m} j_m}{2^n}\\right) \\ket{1}_{n-1}\\right] \\cdots \\left[\\ket{0}_0 + \\exp \\left(2 \\pi i \\frac{2^{n-1} \\sum_{m=0}^{0} 2^{m} j_m}{2^n}\\right) \\ket{1}_0\\right].\n",
    "$$\n",
    "\n",
    "$\\newcommand{tk}{\\tilde{k}}$\n",
    "\n",
    "例によって全ての量子ビットに$\\ket{0}$と$\\ket{1}$が現れるので、右辺は振幅$\\{c_k\\}$を用いて$\\sum_{k=0}^{2^n-1} c_k \\ket{k}$の形で表せます。後の利便性のために$k$の代わりに整数$\\tk$とその二進数表現$\\tk_{l}$を使って、\n",
    "\n",
    "$$\n",
    "c_{\\tk} = \\exp \\left(\\frac{2 \\pi i}{2^n} \\sum_{l=0}^{n-1}\\sum_{m=0}^{l} 2^{n-1-l+m} j_m \\tk_l \\right).\n",
    "$$\n",
    "\n",
    "二重和が厄介な形をしていますが、$j_m, \\tk_l \\in {0, 1}$なので、$n-1-l+m >= n$のとき和の中身が$2^n$の倍数となり、$\\exp (2 \\pi i / 2^n \\cdot a 2^n) = 1 \\, \\forall a \\in \\mathbb{N}$であることを用いると、$m$についての和を$n-1$までに拡張できます。さらに$k_l = \\tk_{n-1 - l}$と定義すると、\n",
    "\n",
    "$$\n",
    "c_{\\tk} = \\exp \\left(\\frac{2 \\pi i}{2^n} \\sum_{m=0}^{n-1} 2^m j_m \\sum_{l=0}^{n-1} 2^l k_l \\right).\n",
    "$$\n",
    "\n",
    "つまり、ここまでの操作で得られる状態は\n",
    "\n",
    "$$\n",
    "\\frac{1}{\\sqrt{2^n}} \\sum_{k_l=0,1} \\exp \\left(\\frac{2 \\pi i}{2^n} j \\sum_{l=0}^{n-1} 2^l k_l \\right) \\ket{k_0}_{n-1} \\cdots \\ket{k_{n-1}}_0\n",
    "$$\n",
    "\n",
    "であり、求める状態に対してビット順序が逆転したものになっていることがわかります。したがって、最後にSWAPを使ってビット順序を逆転させれば量子フーリエ変換が完成します。\n",
    "\n",
    "正解は\n",
    "\n",
    "```{code-block} python\n",
    "for itarg in range(num_qubits - 1, -1, -1):\n",
    "    circuit.h(itarg)\n",
    "    for ictrl in range(itarg - 1, -1, -1):\n",
    "        power = ictrl - itarg - 1 + num_qubits\n",
    "        circuit.cp((2 ** power) * 2. * np.pi / (2 ** num_qubits), ictrl, itarg)\n",
    "        \n",
    "for i in range(num_qubits // 2):\n",
    "    circuit.swap(i, num_qubits - 1 - i)\n",
    "```\n",
    "\n",
    "です。\n",
    "````"
   ]
  }
 ],
 "metadata": {
  "kernelspec": {
   "display_name": "Python 3",
   "language": "python",
   "name": "python3"
  },
  "language_info": {
   "codemirror_mode": {
    "name": "ipython",
    "version": 3
   },
   "file_extension": ".py",
   "mimetype": "text/x-python",
   "name": "python",
   "nbconvert_exporter": "python",
   "pygments_lexer": "ipython3",
   "version": "3.8.5"
  }
 },
 "nbformat": 4,
 "nbformat_minor": 4
}
