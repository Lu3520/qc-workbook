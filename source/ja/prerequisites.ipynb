{
 "cells": [
  {
   "cell_type": "markdown",
   "metadata": {},
   "source": [
    "# 実習に必要なもの\n",
    "\n",
    "```{contents} 目次\n",
    "---\n",
    "local: true\n",
    "---\n",
    "```"
   ]
  },
  {
   "cell_type": "markdown",
   "metadata": {},
   "source": [
    "## 予備知識：Pythonと実習の実行環境\n",
    "\n",
    "### 基礎\n",
    "\n",
    "### 実行環境\n",
    "\n",
    "実習は全てこのウェブサイト上で行えるようになっていますが、必要であれば各ページ右上にあるダウンロードボタンからそのページの元になったJupyter Notebookを取得できます。Githubのアイコンをクリックしてワークブックのレポジトリを参照することもできます。\n",
    "\n",
    "ダウンロードしたノートブックをローカルに実行するためには、Pythonバージョン3.8以上に、`pip`を使って以下のパッケージをインストールする必要があります。\n",
    "\n",
    "```{code-block}\n",
    "pip install qiskit matplotlib pylatexenc tabulate\n",
    "```\n",
    "\n",
    "最初のパッケージQiskitがIBMの提供する量子コンピューティング用のライブラリで、実習は全てこれを利用します。"
   ]
  },
  {
   "cell_type": "markdown",
   "metadata": {},
   "source": [
    "## IBM Quantum Experience\n",
    "\n",
    "### IBMidを取得し、IBM Quantum Experienceにログインする\n",
    "\n",
    "IBM Q System Oneを利用するには、IBMidというアカウントを作り、サービストークンを取得する必要があります。[IBM Quantum Experience](https://quantum-computing.ibm.com/)ウェブサイトでIDを取得し、サービスにログインしてください。\n",
    "\n",
    "ログインしたらホーム画面の右上のアカウントアイコンをクリックし、My Accountを選択します。\n",
    "\n",
    "```{image} figs/ibmq_home.jpg\n",
    ":height: 300px\n",
    ":name: IBM Quantum Experiene Home\n",
    "```\n",
    "\n",
    "My Account画面からトークンをコピーできます。\n",
    "\n",
    "```{image} figs/ibmq_token.jpg\n",
    ":height: 300px\n",
    ":name: My Account\n",
    "```\n",
    "\n",
    "(qiskit_token)=\n",
    "### Qiskitにトークンを登録する\n",
    "\n",
    "アカウントごとに発行されるサービストークンは、ユーザー名＋パスワードの代わりとしてPythonプログラム中でIBMQに接続するために使用されます。"
   ]
  },
  {
   "cell_type": "code",
   "execution_count": null,
   "metadata": {
    "tags": [
     "raises-exception",
     "remove-output"
    ]
   },
   "outputs": [],
   "source": [
    "from qiskit import IBMQ\n",
    "\n",
    "IBMQ.enable_account('__paste_your_token_here__')"
   ]
  },
  {
   "cell_type": "markdown",
   "metadata": {},
   "source": [
    "上のように`enable_account`を利用する場合は、Pythonプログラムを実行するたびに（Jupyter notebookのカーネルを再起動するたびに）認証を行います。\n",
    "\n",
    "ローカルディスクに書き込める環境にあれば、\n",
    "```{code-block} python\n",
    "IBMQ.save_account('__paste_your_token_here__')\n",
    "```\n",
    "とすることでトークンが保存され、以降はPythonプログラムを実行するたびに行う手続きが\n",
    "```{code-block} python\n",
    "IBMQ.load_account()\n",
    "```\n",
    "に変わります。"
   ]
  }
 ],
 "metadata": {
  "kernelspec": {
   "display_name": "Python 3",
   "language": "python",
   "name": "python3"
  },
  "language_info": {
   "codemirror_mode": {
    "name": "ipython",
    "version": 3
   },
   "file_extension": ".py",
   "mimetype": "text/x-python",
   "name": "python",
   "nbconvert_exporter": "python",
   "pygments_lexer": "ipython3",
   "version": "3.8.5"
  }
 },
 "nbformat": 4,
 "nbformat_minor": 4
}
