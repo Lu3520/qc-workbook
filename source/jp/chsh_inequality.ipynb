{
 "cells": [
  {
   "cell_type": "markdown",
   "metadata": {},
   "source": [
    "# CHSH不等式の破れを確認する"
   ]
  },
  {
   "cell_type": "markdown",
   "metadata": {},
   "source": [
    "この最初の実習では、量子コンピュータにおいて**量子力学的状態、特に「エンタングルメント」**が実現しているか検証してみましょう。実習を通じて量子力学の概念と量子コンピューティングの基礎を紹介していきます。\n",
    "\n",
    "## 目次\n",
    "1. {ref}`sec:probing_quantumness`\n",
    "  1. {ref}`subsec:chsh_inequality`\n",
    "  1. {ref}`subsec:qiskit`\n",
    "    1. {ref}`subsubsec:circuit`\n",
    "    1. {ref}`subsubsec:common_gates`\n",
    "    1. {ref}`subsubsec:circuit_visualization`\n",
    "  1. {ref}`subsec:writing_chsh`\n",
    "  1. {ref}`subsec:using_ibmq`\n",
    "  1. {ref}`subsec:analysis`\n",
    "1. {ref}`sec:circuit_from_scratch`\n",
    "  1. {ref}`subsec:using_the_simulator`\n",
    "  1. {ref}`subsec:other_gates`\n",
    "  1. {ref}`subsec:state_generation`\n",
    "  1. {ref}`subsec:double_slit`"
   ]
  },
  {
   "cell_type": "markdown",
   "metadata": {},
   "source": [
    "(sec:probing_quantumness)=\n",
    "## 本当に量子コンピュータなのか？\n",
    "\n",
    "このワークブックの主旨が量子コンピュータ（QC）を使おう、ということですが、QCなんて数年前までSFの世界の存在でした。それが今やクラウドの計算リソースとして使えるというわけですが、ではそもそも私たちがこれから使おうとしている機械は本当にQCなのでしょうか。どうしたらそれが調べられるでしょうか。\n",
    "\n",
    "QCの基本的な仕組みは、**「何らの物理的な系（超電導共振器や冷却原子など）をうまく操作して、求める計算の結果がその系の量子状態に表現されるようにする」**ということです。つまり、量子状態が長く保たれてかつ思うように操作できる対象と、「計算」という実体のなさそうなものを具体的な「量子操作」に対応させるアルゴリズムの両方があって初めてQCが成り立ちます。アルゴリズムの部分はこのワークブックを通じてちょっとずつ紹介していくので、今回は「量子状態が保たれ、それを操作できる」ということを確認してみましょう。"
   ]
  },
  {
   "cell_type": "markdown",
   "metadata": {},
   "source": [
    "(subsec:chsh_inequality)=\n",
    "### CHSH不等式とは\n",
    "\n",
    "CHSH不等式やその根本であるBell不等式の意義については、{doc}`quantum_basics`を参照してください。かいつまんで言うと、CHSH不等式とは「二体系の特定の観測量について、エンタングルメントなど量子力学固有の現象がなければ保たれる不等式」です。やや回りくどいロジックですが、つまりQC（だと考えられる機械）で測ったこの観測量の値がCHSH不等式を破っていれば、その機械は実際に量子現象を利用していると言えることになります。\n",
    "\n",
    "通常このような実験を行うには高度なセットアップ（レーザーと非線形結晶、冷却原子など）が必要ですが、クラウドQCではブラウザ一つしか要りません。このワークブックではJupyter NotebookでPythonのプログラムを書き、[IBM Quantum Experience](https://quantum-computing.ibm.com/)を通じて[IBM Q System One](https://www.ibm.com/quantum-computing/systems/)を利用します。"
   ]
  },
  {
   "cell_type": "markdown",
   "metadata": {},
   "source": [
    "(subsec:qiskit)=\n",
    "### Qiskitの基本構造\n",
    "\n",
    "IBM Q System OneのQCで量子計算を実行するには、IBMの提供する[Qiskit](https://qiskit.org/)というPythonライブラリを利用します。Qiskitの基本的な使い方は\n",
    "\n",
    "1. 空っぽの量子回路を定義する\n",
    "1. 回路に量子計算の操作（ゲート）を足していく\n",
    "1. 回路を実行して計算結果を得る\n",
    "  - 回路をQCの実機に送り、実行させる\n",
    "  - 回路をシミュレートする\n",
    "1. 計算結果を解析する\n",
    "\n",
    "です。"
   ]
  },
  {
   "cell_type": "markdown",
   "metadata": {},
   "source": [
    "(subsubsec:circuit)=\n",
    "#### 回路、量子ビット、ゲート、測定"
   ]
  },
  {
   "cell_type": "markdown",
   "metadata": {},
   "source": [
    "(subsubsec:common_gates)=\n",
    "#### よく使うゲート"
   ]
  },
  {
   "cell_type": "markdown",
   "metadata": {},
   "source": [
    "(subsubsec:circuit_visualization)=\n",
    "#### 回路図の書き方と読み方"
   ]
  },
  {
   "cell_type": "markdown",
   "metadata": {},
   "source": [
    "(subsec:writing_chsh)=\n",
    "### CHSH不等式を計算する回路を書く"
   ]
  },
  {
   "cell_type": "markdown",
   "metadata": {},
   "source": [
    "(subsec:using_ibmq)=\n",
    "### IBMQを使う"
   ]
  },
  {
   "cell_type": "markdown",
   "metadata": {},
   "source": [
    "(subsec:analysis)=\n",
    "### 量子測定結果の解析"
   ]
  },
  {
   "cell_type": "markdown",
   "metadata": {},
   "source": [
    "(sec:circuit_from_scratch)=\n",
    "## 単純な量子回路をゼロから書く"
   ]
  },
  {
   "cell_type": "markdown",
   "metadata": {},
   "source": [
    "(subsec:using_the_simulator)=\n",
    "### シミュレータで量子状態を調べる"
   ]
  },
  {
   "cell_type": "markdown",
   "metadata": {},
   "source": [
    "(subsec:other_gates)=\n",
    "### その他のゲート"
   ]
  },
  {
   "cell_type": "markdown",
   "metadata": {},
   "source": [
    "(subsec:state_generation)=\n",
    "### 単一ビットゲートとCNOTによる状態生成"
   ]
  },
  {
   "cell_type": "markdown",
   "metadata": {},
   "source": [
    "(subsec:double_slit)=\n",
    "### [課題]ダブルスリット実験のシミュレーション"
   ]
  },
  {
   "cell_type": "code",
   "execution_count": null,
   "metadata": {},
   "outputs": [],
   "source": []
  }
 ],
 "metadata": {
  "kernelspec": {
   "display_name": "Python 3",
   "language": "python",
   "name": "python3"
  },
  "language_info": {
   "codemirror_mode": {
    "name": "ipython",
    "version": 3
   },
   "file_extension": ".py",
   "mimetype": "text/x-python",
   "name": "python",
   "nbconvert_exporter": "python",
   "pygments_lexer": "ipython3",
   "version": "3.8.5"
  }
 },
 "nbformat": 4,
 "nbformat_minor": 4
}
