{
 "cells": [
  {
   "cell_type": "markdown",
   "metadata": {
    "collapsed": true,
    "pycharm": {
     "name": "#%% md\n"
    }
   },
   "source": [
    "# グローバーのアルゴリズムを使って、データベース検索を行う"
   ]
  },
  {
   "cell_type": "markdown",
   "metadata": {},
   "source": [
    "ここでは、**グローバーのアルゴリズム**の紹介と、そのアルゴリズムを使用して構造化されていないデータベースを検索する問題を考えます。アルゴリズムを説明した後に、Qiskitを使用してグローバーのアルゴリズムを実装します。\n",
    "\n",
    "## 目次\n",
    "\n",
    "1. [はじめに](#introduction)\n",
    "2. [非構造化データの検索](#database)\n",
    "3. [グローバーのアルゴリズム](#grover)\n",
    "    1. [位相オラクルの導入](#grover_phaseoracle)\n",
    "    2. [量子回路の構成](#grover_circuit)\n",
    "    3. [重ね合わせ状態の生成](#grover_superposition)\n",
    "    4. [幾何学的な表現](#grover_geometry)\n",
    "    5. [オラクルの適用](#grover_oracle)\n",
    "    6. [Diffuserの適用](#grover_diffuser)\n",
    "    7. [振幅増幅を可視化する](#grover_amp)\n",
    "    8. [複数データの検索](#grover_multidata)\n",
    "4. [アルゴリズムの実装 ($N=2^8$の場合)](#imp)\n",
    "    1. [Qiskitでの実装](#imp_qiskit)\n",
    "    2. [シミュレータでの実験](#imp_simulator)\n",
    "\n"
   ]
  },
  {
   "cell_type": "markdown",
   "metadata": {},
   "source": [
    "## はじめに <a id='introduction'></a>\n",
    "\n",
    "量子コンピュータが古典コンピュータの計算能力を優位に上回る性能を発揮するためには、量子計算の特徴をうまく活用するアルゴリズムを考える必要があります。そのような量子アルゴリズムの一つとして知られているのが、グローバーのアルゴリズムです。このアルゴリズムは**構造化されていないデータベースの検索**に適しており、古典計算より少ない計算量で答えを得られることが証明されています。このアルゴリズムは**振幅増幅**と呼ばれる手法をベースにしており、量子アルゴリズムのサブルーチンとしても幅広く活用されています。"
   ]
  },
  {
   "cell_type": "markdown",
   "metadata": {},
   "source": [
    "## 非構造化データの検索 <a id='database'></a>\n",
    "\n",
    "$N$個の要素からなるリストがあり、その中の一つの要素$w$を見つけたいとします。求める要素$w$を見つけるためには、古典計算では最悪の場合$N$回、平均では$\\boldsymbol{N/2}$回リストを調べる必要があります。グローバーのアルゴリズムでは、おおよそ$\\boldsymbol{\\sqrt{N}}$回の検索で$w$を見つけることができることが知られています。つまり、**古典計算に対して二次の高速化が可能**というわけです。"
   ]
  },
  {
   "cell_type": "markdown",
   "metadata": {},
   "source": [
    "## グローバーのアルゴリズム <a id='grover'></a>\n",
    "\n",
    "ここでは$n$個の量子ビットを考え、その量子ビットが存在する可能性のある全ての計算基底でリストが構成されているものとします。つまり$N=2^n$として、リストは$|00\\cdots00\\rangle$, $|00\\cdots01\\rangle$, $|00\\cdots10\\rangle$, $\\cdots$, $|11\\cdots11\\rangle$までの$N$個の要素（10進数表記で$|0\\rangle$, $|1\\rangle$, $\\cdots$, $|N-1\\rangle$）を含んでいます。"
   ]
  },
  {
   "cell_type": "markdown",
   "source": [
    "### 位相オラクルの導入 <a id='grover_phaseoracle'></a>\n",
    "\n",
    "グローバーのアルゴリズムで重要になるのは、特定の状態の位相を変える位相オラクルです。まず、$U|x\\rangle=(-1)^{f(x)}|x\\rangle$で与えられる位相オラクルを考えます。ここで関数$f(x)$として\n",
    "$\n",
    "f(x) = \\bigg\\{\n",
    "\\begin{aligned}\n",
    "&1 \\quad \\text{if} \\; x = w \\\\\n",
    "&0 \\quad \\text{else} \\\\\n",
    "\\end{aligned}\n",
    "$\n",
    "を考えると、求める解$w$の位相を反転するオラクル$U_w$\n",
    "$$\n",
    "U_w:\\begin{aligned}\n",
    "&|w\\rangle \\to -|w\\rangle\\\\\n",
    "&|x\\rangle \\to |x\\rangle \\quad \\forall \\; x \\neq w\n",
    "\\end{aligned}\n",
    "$$\n",
    "が得られます。この時、$U_w$は$U_w=I-2|w\\rangle\\langle w|$と表現できることが分かります。また、関数$f_0(x)$として\n",
    "$\n",
    "f_0(x) = \\bigg\\{\n",
    "\\begin{aligned}\n",
    "&0 \\quad \\text{if} \\; x = 0 \\\\\n",
    "&1 \\quad \\text{else} \\\\\n",
    "\\end{aligned}\n",
    "$\n",
    "を考えると、0以外の位相を反転するユニタリー$U_0$\n",
    "$$\n",
    "U_0:\\begin{aligned}\n",
    "&|0\\rangle^{\\otimes n} \\to |0\\rangle^{\\otimes n}\\\\\n",
    "&|x\\rangle \\to -|x\\rangle \\quad \\forall \\; x \\neq 0\n",
    "\\end{aligned}\n",
    "$$\n",
    "を得ることができます。この時、$U_0$は$U_0=2|0\\rangle\\langle 0|^{\\otimes n}-I$になります。"
   ],
   "metadata": {
    "collapsed": false
   }
  },
  {
   "cell_type": "markdown",
   "source": [
    "### 量子回路の構成 <a id='grover_circuit'></a>\n",
    "\n",
    "グローバーアルゴリズムを実装する量子回路の構造は、下図のようになっています。$|0\\rangle$に初期化された状態から出発し、Hadamard演算を適用して重ね合わせ状態を作ります。その後、\n",
    "$G$と書かれている演算を繰り返し適用します。\n",
    "\n",
    "<img src=\"figs/grover.png\" width=70%>\n",
    "\n",
    "$G$は「グローバーの反復」とも呼ばれるユニタリー演算で、以下のような4つのステップから構成されています。\n",
    "\n",
    "<img src=\"figs/grover_iter.png\" width=50%>\n",
    "\n",
    "回路の最初にあるHadamard演算と合わせて、グローバーの反復を1回実行するまでのステップ\n",
    "\n",
    "<img src=\"figs/grover_iter1.png\" width=70%>\n",
    "\n",
    "を細かく見ていきましょう。"
   ],
   "metadata": {
    "collapsed": false
   }
  },
  {
   "cell_type": "markdown",
   "source": [
    "### 重ね合わせ状態の生成 <a id='grover_superposition'></a>\n",
    "まず、$n$量子ビット回路の初期状態$|0\\rangle^{\\otimes n}$にHadamard演算を適用し、一様に重ね合わされた状態を生成します。\n",
    "\n",
    "$$\n",
    "|s\\rangle = H^{\\otimes n}|0\\rangle^{\\otimes n} = \\frac{1}{\\sqrt{N}}\\sum_{x=0}^{N-1}|x\\rangle\n",
    "$$\n",
    "\n",
    "この状態を$|s\\rangle$とします。"
   ],
   "metadata": {
    "collapsed": false
   }
  },
  {
   "cell_type": "markdown",
   "source": [
    "### 幾何学的な表現 <a id='grover_geometry'></a>\n",
    "この$|s\\rangle$の状態を幾何学的に表現してみましょう。まず、重ね合わせ状態$|s\\rangle$と求める状態$|w\\rangle$が張る2次元平面を考えます。$|w\\rangle$に直交する状態$|w^{\\perp}\\rangle$は$|w^{\\perp}\\rangle:=\\frac{1}{\\sqrt{N-1}}\\sum_{x \\neq w}|x\\rangle$と表現できるため、この平面上では$|w\\rangle$に直交する軸に相当します。簡易的に、この平面では$|w^{\\perp}\\rangle=\\begin{bmatrix}1\\\\0\\end{bmatrix}$と$|w\\rangle=\\begin{bmatrix}0\\\\1\\end{bmatrix}$と書くことにします。\n",
    "\n",
    "まとめると、この2次元平面では、$|s\\rangle$は($|w^{\\perp}\\rangle$, $|w\\rangle$)という二つのベクトルの線形和として書くことができます。\n",
    "\n",
    "$$\n",
    "\\begin{aligned}\n",
    "|s\\rangle&=\\sqrt{\\frac{N-1}{N}}|w^{\\perp}\\rangle+\\sqrt{\\frac1N}|w\\rangle\\\\\n",
    "&=: \\cos\\frac\\theta2|w^{\\perp}\\rangle+\\sin\\frac\\theta2|w\\rangle\\\\\n",
    "&= \\begin{bmatrix}\\cos\\frac\\theta2\\\\\\sin\\frac\\theta2\\end{bmatrix}\n",
    "\\end{aligned}\n",
    "$$\n",
    "\n",
    "答えが一つであるため、$|w\\rangle$の振幅は$\\sqrt{\\frac1N}$、$|w^{\\perp}\\rangle$の振幅は$\\sqrt{\\frac{N-1}{N}}$になります。$\\sin\\frac\\theta2=\\sqrt{\\frac1N}$なる$\\theta$を定義すると、\n",
    "\n",
    "$$\n",
    "\\theta=2\\arcsin\\frac{1}{\\sqrt{N}}\n",
    "$$\n",
    "\n",
    "になります。($|w^{\\perp}\\rangle$, $|w\\rangle$)平面での$|s\\rangle$を図示すると、以下のようになります。\n",
    "\n",
    "<img src=\"figs/grover_rot1.png\" width=30%>"
   ],
   "metadata": {
    "collapsed": false
   }
  },
  {
   "cell_type": "markdown",
   "source": [
    "### オラクルの適用 <a id='grover_oracle'></a>\n",
    "次に、$|s\\rangle$にオラクル$U_w$を適用します。このオラクルは、この平面上では$U_w=I-2|w\\rangle\\langle w|=\\begin{bmatrix}1&0\\\\0&-1\\end{bmatrix}$と表現することが可能です。つまり、$U_w$は$|w^{\\perp}\\rangle$軸に関して$|s\\rangle$を折り返す操作（下図）に対応しており、この操作で$|w\\rangle$の位相が反転します。\n",
    "\n",
    "<img src=\"figs/grover_rot2.png\" width=30%>"
   ],
   "metadata": {
    "collapsed": false
   }
  },
  {
   "cell_type": "markdown",
   "source": [
    "### Diffuserの適用 <a id='grover_diffuser'></a>\n",
    "次は$H^{\\otimes n}U_0H^{\\otimes n}$の適用で、この演算はDiffuserと呼ばれます。$U_0=2|0\\rangle\\langle0|^{\\otimes n}-I$なので、\n",
    "\n",
    "$$\n",
    "\\begin{aligned}\n",
    "H^{\\otimes n}U_0H^{\\otimes n}&=2H^{\\otimes n}|0\\rangle^{\\otimes n}\\langle0|^{\\otimes n}H^{\\otimes n}-H^{\\otimes n}H^{\\otimes n}\\\\\n",
    "&=2|s\\rangle\\langle s|-I\\\\\n",
    "&=\\begin{bmatrix}\\cos\\theta&\\sin\\theta\\\\\\sin\\theta&-\\cos\\theta\\end{bmatrix}\n",
    "\\end{aligned}\n",
    "$$\n",
    "\n",
    "になります。つまり、Diffuserは$U_w|s\\rangle$を$|s\\rangle$に関して折り返す操作に対応します（下図）。\n",
    "\n",
    "<img src=\"figs/grover_rot3.png\" width=30%>\n",
    "\n",
    "まとめると、グローバーの反復$G=(2|s\\rangle\\langle s|-I)U_w$は\n",
    "\n",
    "$$\n",
    "\\begin{aligned}\n",
    "G&=(2|s\\rangle\\langle s|-I)U_w\\\\\n",
    "&= \\begin{bmatrix}\\cos\\theta&-\\sin\\theta\\\\\\sin\\theta&\\cos\\theta\\end{bmatrix}\n",
    "\\end{aligned}\n",
    "$$\n",
    "\n",
    "であるため、$|s\\rangle$を$|w\\rangle$に向けて角度$\\theta$だけ回転する操作を表していることが分かります（下図）。\n",
    "\n",
    "<img src=\"figs/grover_rot4.png\" width=30%>\n",
    "\n",
    "$G$を1回適用すれば$\\theta$だけ回転するということは、$G$を$r$回繰り返せば$r\\theta$回転することになります。その時の$|s\\rangle$の状態は\n",
    "\n",
    "$$\n",
    "G^r|s\\rangle=\\begin{bmatrix}\\cos\\frac{2r+1}{2}\\theta\\\\\\sin\\frac{2r+1}{2}\\theta\\end{bmatrix}\n",
    "$$\n",
    "\n",
    "で与えられます。つまり、求める答え$|w\\rangle$に到達するためには、$\\frac{2r+1}2\\theta\\approx\\frac{\\pi}2$となる$r$の回数だけ回転すれば良いことになります。\n",
    "1回の回転角$\\theta$が十分小さいとして、$\\sin\\frac\\theta2=\\frac{1}{\\sqrt{N}}\\approx\\frac\\theta2$とすると、$r\\approx\\frac\\pi4\\sqrt{N}$が得られます。つまり${\\cal O}(\\sqrt{N})$の操作で答え$|w\\rangle$に到達することが示せたわけであり、古典計算に対する2次の高速化が得られることが分かりました。\n",
    "\n",
    "Diffuserの役割をもう少し見てみましょう。ある状態$|\\psi\\rangle$が、$|\\psi\\rangle:=\\sum_k a_k|k\\rangle$という振幅$a_k$を持つ$|k\\rangle$の重ね合わせ状態として書かれるとしましょう。この状態にDiffuserを適用すると\n",
    "\n",
    "$$\n",
    "\\begin{aligned}\n",
    "(2|s\\rangle\\langle s|-I)|\\psi\\rangle&=\\frac2N\\sum_i|i\\rangle\\cdot\\sum_{j,k}a_k\\langle j|k\\rangle-\\sum_k a_k|k\\rangle\\\\\n",
    "&= 2\\frac{\\sum_i a_i}{N}\\sum_k|k\\rangle-\\sum_k a_k|k\\rangle\\\\\n",
    "&= \\sum_k(2\\langle a\\rangle-a_k)|k\\rangle\n",
    "\\end{aligned}\n",
    "$$\n",
    "\n",
    "となります。$\\langle a\\rangle\\equiv\\frac{\\sum_i a_i}{N}$は振幅の平均です。ある状態$|k\\rangle$の振幅$a_k$が$a_k=\\langle a\\rangle-\\Delta$で与えられるとすると、Diffuserを適用した後の振幅は$2\\langle a\\rangle-a_k=\\langle a\\rangle+\\Delta$になります。つまり、Diffuserは平均$\\langle a\\rangle$に関して振幅を反転する操作を表していることが分かります。"
   ],
   "metadata": {
    "collapsed": false
   }
  },
  {
   "cell_type": "markdown",
   "source": [
    "### 振幅増幅を可視化する <a id='grover_amp'></a>\n",
    "グローバーアルゴリズムで振幅がどのように増幅されるのか、可視化するとこのようになります。\n",
    "\n",
    "まず、最初のHadamard変換で全ての計算基底が等しい振幅を持つ重ね合わせ状態を生成します（下図の1）。横軸は$N$個の計算基底、縦軸は各基底の振幅の大きさを表しており、全ての基底が$\\frac{1}{\\sqrt{N}}$の大きさの振幅を持っています（振幅の平均を赤破線で表示）。\n",
    "\n",
    "次にオラクル$U_w$を適用すると、$|w\\rangle$の位相が反転し、振幅が$-\\frac{1}{\\sqrt{N}}$になります（下図の2）。この状態での振幅の平均は$\\frac{1}{\\sqrt{N}}(1-\\frac2N)$になり、(1)の状態より低くなります。\n",
    "\n",
    "最後にDiffuserを適用すると、平均に関して振幅を反転します（下図の3）。その結果、$|w\\rangle$の振幅が増幅され、$|w\\rangle$以外の基底の振幅は減少します。1回のグローバーの反復操作で、$|w\\rangle$の振幅が約3倍程度増幅することも図から見てとれます。この操作を繰り返し実行すれば$|w\\rangle$の振幅がさらに増幅されるため、正しい答えを得る確率が増加していくことも予想がつくと思います。\n",
    "\n",
    "<img src=\"figs/grover_amp.png\" width=100%>"
   ],
   "metadata": {
    "collapsed": false
   }
  },
  {
   "cell_type": "markdown",
   "source": [
    "### 複数データの検索 <a id='grover_multidata'></a>\n",
    "このセクションの最後に、複数のデータを検索する場合を考察してみましょう。例えば、$N=2^n$個のデータから$M$個のデータ$\\{w_i\\}\\;(i=0,1,\\cdots,M-1)$を探すケースです。これまでと同様に\n",
    "\n",
    "$$\n",
    "\\begin{aligned}\n",
    "&|w\\rangle:=\\frac{1}{\\sqrt{M}}\\sum_{i=0}^{M-1}|w_i\\rangle\\\\\n",
    "&|w^{\\perp}\\rangle:=\\frac{1}{\\sqrt{N-M}}\\sum_{x\\notin\\{w_0,\\cdots,w_{M-1}\\}}|x\\rangle\n",
    "\\end{aligned}\n",
    "$$\n",
    "\n",
    "が張る2次元平面の上で、同様の議論を進めることができます。$|s\\rangle$はこの平面上で\n",
    "\n",
    "$$\n",
    "\\begin{aligned}\n",
    "|s\\rangle&=\\sqrt{\\frac{N-M}{N}}|w^{\\perp}\\rangle+\\sqrt{\\frac{M}{N}}|w\\rangle\\\\\n",
    "&=: \\cos\\frac\\theta2|w^{\\perp}\\rangle+\\sin\\frac\\theta2|w\\rangle\\\\\n",
    "\\end{aligned}\n",
    "$$\n",
    "\n",
    "と表現でき、$|w\\rangle$の振幅$\\sqrt{\\frac{M}{N}}$を$\\sin\\frac\\theta2$と定義すると、角度$\\theta$は$\\theta=2\\arcsin\\sqrt{\\frac{M}{N}}$になります。答えが一つのケースと比べて、角度は$\\sqrt{M}$倍大きく、1回のグローバーの反復操作でより大きく回転することになります。その結果、より少ない$r\\approx\\frac\\pi4\\sqrt{\\frac{N}{M}}$回の回転操作で答えに到達することが可能になることが分かります。"
   ],
   "metadata": {
    "collapsed": false
   }
  },
  {
   "cell_type": "markdown",
   "metadata": {
    "pycharm": {
     "name": "#%% md\n"
    }
   },
   "source": [
    "## アルゴリズムの実装 ($N=2^6$の場合) <a id='imp'></a>\n",
    "$N=2^6$個の要素を持つリスト（$=[0,1,2,\\cdots,63]$）から、一つの答え\"45\"を見つけるグローバーアルゴリズムを実装してみます。6量子ビットの量子回路を使って、$|45\\rangle=|101101\\rangle$を探す問題です。\n",
    "\n",
    "量子回路は以下のような構成になります。オラクルは$|101101\\rangle$の状態の位相を反転するため、multi-controlled $Z$ゲートを使います。\n",
    "Diffuserは（テンソル積 $\\otimes 6$を省略して）$H(2|0\\rangle\\langle0|-I)H$に対応する部分です。$2|0\\rangle\\langle0|-I$で$|0\\rangle$以外の基底の位相を反転しますが、この部分は最初に$R_Z(2\\pi)$ゲートで全ての基底の位相を反転させ、その後に$|0\\rangle$の場合だけ位相をさらに反転させることで実装します。\n",
    "\n",
    "\n",
    "\n",
    "<img src=\"figs/grover_6bits_45.png\" width=60%>"
   ]
  },
  {
   "cell_type": "markdown",
   "source": [
    "### Qiskitでの実装 <a id='imp_qiskit'></a>\n",
    "\n",
    "まず必要な環境をセットアップします。"
   ],
   "metadata": {
    "collapsed": false
   }
  },
  {
   "cell_type": "code",
   "execution_count": null,
   "outputs": [],
   "source": [
    "# 初期化\n",
    "import matplotlib.pyplot as plt\n",
    "import numpy as np\n",
    "\n",
    "# Qiskitをインポート\n",
    "from qiskit import IBMQ, Aer, QuantumCircuit, ClassicalRegister, QuantumRegister, execute\n",
    "from qiskit.providers.ibmq import least_busy\n",
    "from qiskit.quantum_info import Statevector\n",
    "\n",
    "# 基本的な描画ツールをインポート\n",
    "from qiskit.visualization import plot_histogram"
   ],
   "metadata": {
    "collapsed": false,
    "pycharm": {
     "name": "#%%\n"
    }
   }
  },
  {
   "cell_type": "markdown",
   "source": [
    "まず6量子ビットの回路を準備します。"
   ],
   "metadata": {
    "collapsed": false,
    "pycharm": {
     "name": "#%% md\n"
    }
   }
  },
  {
   "cell_type": "code",
   "execution_count": null,
   "outputs": [],
   "source": [
    "n = 6\n",
    "grover_circuit = QuantumCircuit(n)"
   ],
   "metadata": {
    "collapsed": false,
    "pycharm": {
     "name": "#%%\n"
    }
   }
  },
  {
   "cell_type": "markdown",
   "source": [
    "一様な重ね合わせ状態$|s\\rangle$を生成した後に、オラクルを実装します。"
   ],
   "metadata": {
    "collapsed": false
   }
  },
  {
   "cell_type": "code",
   "execution_count": null,
   "outputs": [],
   "source": [
    "def initialize_s(qc, qubits):\n",
    "    \"\"\"qcの 'qubits' にH-gate を適用\"\"\"\n",
    "    for q in qubits:\n",
    "        qc.h(q)\n",
    "    return qc\n",
    "\n",
    "grover_circuit = initialize_s(grover_circuit, [i for i in range(n)])\n",
    "\n",
    "qc = QuantumCircuit(n)\n",
    "qc.h(n-1)\n",
    "qc.mct([0,2,3], n-1)\n",
    "qc.h(n-1)\n",
    "qc.cz(1, 2)\n",
    "oracle = qc.to_gate()\n",
    "oracle.name = \"$U_w$\"\n",
    "grover_circuit.append(oracle, [i for i in range(n)])"
   ],
   "metadata": {
    "collapsed": false,
    "pycharm": {
     "name": "#%%\n"
    }
   }
  },
  {
   "cell_type": "markdown",
   "source": [
    "次に、Diffuser用の回路を実装します。"
   ],
   "metadata": {
    "collapsed": false
   }
  },
  {
   "cell_type": "code",
   "execution_count": null,
   "outputs": [],
   "source": [
    "def diffuser(n):\n",
    "    qc = QuantumCircuit(n)\n",
    "    for q in range(n):\n",
    "        qc.h(q)\n",
    "    for q in range(n):\n",
    "        qc.x(q)\n",
    "    # multi-controlled Zゲート\n",
    "    qc.h(n-1)\n",
    "    qc.mct(list(range(n-1)), n-1)\n",
    "    qc.h(n-1)\n",
    "    for q in range(n):\n",
    "        qc.x(q)\n",
    "    for q in range(n):\n",
    "        qc.h(q)\n",
    "    U_s = qc.to_gate()\n",
    "    U_s.name = \"$U_s$\"\n",
    "    return U_s\n",
    "\n",
    "grover_circuit.append(diffuser(n), [i for i in range(n)])\n",
    "grover_circuit.measure_all()\n",
    "grover_circuit.draw()"
   ],
   "metadata": {
    "collapsed": false,
    "pycharm": {
     "name": "#%%\n"
    }
   }
  },
  {
   "cell_type": "markdown",
   "source": [
    "### シミュレータでの実験 <a id='imp_simulator'></a>\n"
   ],
   "metadata": {
    "collapsed": false
   }
  }
 ],
 "metadata": {
  "kernelspec": {
   "display_name": "Python 3",
   "language": "python",
   "name": "python3"
  },
  "language_info": {
   "codemirror_mode": {
    "name": "ipython",
    "version": 3
   },
   "file_extension": ".py",
   "mimetype": "text/x-python",
   "name": "python",
   "nbconvert_exporter": "python",
   "pygments_lexer": "ipython3",
   "version": "3.6.7"
  }
 },
 "nbformat": 4,
 "nbformat_minor": 1
}