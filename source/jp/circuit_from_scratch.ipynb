{
 "cells": [
  {
   "cell_type": "markdown",
   "metadata": {},
   "source": [
    "# 単純な量子回路をゼロから書く"
   ]
  },
  {
   "cell_type": "markdown",
   "metadata": {},
   "source": [
    "この最初の実習では、量子コンピュータにおいて**量子力学的状態、特に「エンタングルメント」**が実現しているか検証してみましょう。実習を通じて量子力学の概念と量子コンピューティングの基礎を紹介していきます。\n",
    "\n",
    "## 目次\n",
    "1. {ref}`sec:using_the_simulator`\n",
    "1. {ref}`sec:other_gates`\n",
    "1. {ref}`sec:state_generation`\n",
    "1. {ref}`sec:double_slit`"
   ]
  },
  {
   "cell_type": "markdown",
   "metadata": {},
   "source": [
    "(sec:using_the_simulator)=\n",
    "## シミュレータで量子状態を調べる"
   ]
  },
  {
   "cell_type": "markdown",
   "metadata": {},
   "source": [
    "(sec:other_gates)=\n",
    "## その他のゲート"
   ]
  },
  {
   "cell_type": "markdown",
   "metadata": {},
   "source": [
    "(sec:state_generation)=\n",
    "## 単一ビットゲートとCNOTによる状態生成"
   ]
  },
  {
   "cell_type": "markdown",
   "metadata": {},
   "source": [
    "(sec:double_slit)=\n",
    "## [課題]ダブルスリット実験のシミュレーション"
   ]
  }
 ],
 "metadata": {
  "kernelspec": {
   "display_name": "Python 3",
   "language": "python",
   "name": "python3"
  },
  "language_info": {
   "codemirror_mode": {
    "name": "ipython",
    "version": 3
   },
   "file_extension": ".py",
   "mimetype": "text/x-python",
   "name": "python",
   "nbconvert_exporter": "python",
   "pygments_lexer": "ipython3",
   "version": "3.8.5"
  }
 },
 "nbformat": 4,
 "nbformat_minor": 4
}
