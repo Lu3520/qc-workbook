{
 "cells": [
  {
   "cell_type": "markdown",
   "metadata": {
    "collapsed": true,
    "pycharm": {
     "name": "#%% md\n"
    }
   },
   "source": [
    "# ショアの素因数分解アルゴリズムを学習する"
   ]
  },
  {
   "cell_type": "markdown",
   "metadata": {},
   "source": [
    "ここでは**ショアのアルゴリズム**を学習します。アルゴリズムの元になっている**量子位相推定**の手法を学んだ後、ショアのアルゴリズムの各ステップを実例とともに紹介します。最後に、Qiskitを使用してショアのアルゴリズムを実装し、実際に素因数分解を行ってみます。\n",
    "\n",
    "## 目次\n",
    "\n",
    "1. [はじめに](#introduction)\n",
    "2. [量子位相推定](#qpe)\n",
    "    1. [1量子ビットの位相推定](#qpe_1qubit)\n",
    "    2. [$n$量子ビットの位相推定](#qpe_nqubit)\n",
    "3. [ショアのアルゴリズム](#shor)\n",
    "    1. [素因数分解の例](#factoring_example)\n",
    "    2. [量子回路](#shor_circuit)\n",
    "    3. [連分数展開](#continued_fractions)\n",
    "4. [アルゴリズムの実装](#imp)\n",
    "    1. [位数の発見](#imp_period)\n",
    "    2. [オラクルの実装](#imp_oracle)\n",
    "    3. [回路全体の実装](#imp_circuit)\n",
    "\n"
   ]
  },
  {
   "cell_type": "markdown",
   "metadata": {},
   "source": [
    "## はじめに <a id='introduction'></a>\n",
    "\n",
    "古典計算の能力をはるかに上回る量子計算の一つの例として、最も有名なものがショアの量子計算アルゴリズムでしょう。このアルゴリズムは、大きな正の数を二つの素数の積に分解するというものです。古典計算では素因数分解の有効なアルゴリズムが知られておらず、数が大きくなると**指数関数的に計算量が増える**と予想されています。ショアのアルゴリズムを用いれば、同じ問題を**多項式時間で解くことができる**と考えられています。\n",
    "古典計算での素因数分解の難しさは鍵暗号技術の元になっており、指数関数的に高速なショアのアルゴリズムが大きく注目される理由もそこにあります。"
   ]
  },
  {
   "cell_type": "markdown",
   "metadata": {},
   "source": [
    "## 量子位相推定 <a id='qpe'></a>\n",
    "\n",
    "まず、ショアのアルゴリズムの元になっている**「量子位相推定」**（*Quantum Phase Estimation*, QPE）と呼ばれる手法について学びましょう（実際、ショアのアルゴリズムはほぼQPEそのものであることが追々分かります）。\n",
    "QPEの理解には**「量子フーリエ変換」**（*Quantum Fourier Transform*, QFT）の理解が欠かせませんが、QFTについてはXXを参照してください。\n",
    "QPEが考える問題は、あるユニタリー演算$U$に対して$U|\\psi\\rangle=e^{2\\pi i\\theta}|\\psi\\rangle$となる固有ベクトル$|\\psi\\rangle$が与えられるとして、その固有値$e^{2\\pi i\\theta}$の位相$\\theta$を求めることができるか？という問題です。"
   ]
  },
  {
   "cell_type": "markdown",
   "source": [
    "### 1量子ビットの位相推定 <a id='qpe_1qubit'></a>\n",
    "まず、下図にあるような量子回路を考えてみましょう。\n",
    "\n",
    "<img src=\"figs/qpe_1qubit.png\" width=40%>\n",
    "\n",
    "この場合、量子回路のステップ 1-3での量子状態は以下のようになります。\n",
    "\n",
    "- ステップ 1 : $\\frac{1}{\\sqrt{2}}(|0\\rangle|\\psi\\rangle+|1\\rangle|\\psi\\rangle)$\n",
    "- ステップ 2 : $\\frac{1}{\\sqrt{2}}(|0\\rangle|\\psi\\rangle+|1\\rangle e^{2\\pi i\\theta}|\\psi\\rangle)$\n",
    "- ステップ 3 : $\\frac{1}{2}\\left[(1+e^{2\\pi i\\theta})|0\\rangle+(1-e^{2\\pi i\\theta})|1\\rangle\\right]$\n",
    "\n",
    "この状態で上側の量子ビットを測定すると、$|(1+e^{2\\pi i\\theta})/2|^2$の確率で0、$|(1-e^{2\\pi i\\theta})/2|^2$の確率で1を測定するでしょう。つまり、この確率の値から位相$\\theta$を求めることができるわけです。\n",
    "しかし、$\\theta$の値が小さい場合、ほぼ100%の確率で0を、ほぼ0％の確率で1を測定することになるため、100%あるいは0%からのずれを精度良く決めるためには多数回の測定が必要なります。"
   ],
   "metadata": {
    "collapsed": false
   }
  },
  {
   "cell_type": "markdown",
   "source": [
    "### $n$量子ビットの位相推定 <a id='qpe_nqubit'></a>\n",
    "そこで、上側のレジスタを$n$量子ビットに拡張した量子回路（下図）を考えてみましょう。\n",
    "\n",
    "<img src=\"figs/qpe_wo_iqft.png\" width=60%>\n",
    "\n",
    "準備として、$U^{2^x}|\\psi\\rangle$が以下のように書けることに留意しておきます。\n",
    "\n",
    "$$\n",
    "\\begin{aligned}\n",
    "U^{2^x}|\\psi\\rangle&=U^{2^x-1}U|\\psi\\rangle\\\\\n",
    "&=U^{2^x-1}e^{2\\pi i\\theta}|\\psi\\rangle\\\\\n",
    "&=U^{2^x-2}e^{2\\pi i\\theta2}|\\psi\\rangle\\\\\n",
    "&=\\cdots\\\\\n",
    "&=e^{2\\pi i\\theta2^x}|\\psi\\rangle\n",
    "\\end{aligned}\n",
    "$$\n",
    "\n",
    "この量子回路のステップ 1, 2, ... $n+1$での量子状態は以下のようになります。\n",
    "\n",
    "- ステップ 1 : $\\frac{1}{\\sqrt{2^n}}(|0\\rangle+|1\\rangle)^{\\otimes n}|\\psi\\rangle$\n",
    "- ステップ 2 : $\\frac{1}{\\sqrt{2^n}}(|0\\rangle+e^{2\\pi i\\theta2^{n-1}}|1\\rangle)(|0\\rangle+|1\\rangle)^{\\otimes n-1}|\\psi\\rangle$\n",
    "- $\\cdots$\n",
    "- ステップ $n+1$ : $\\frac{1}{\\sqrt{2^n}}(|0\\rangle+e^{2\\pi i\\theta2^{n-1}}|1\\rangle)(|0\\rangle+e^{2\\pi i\\theta2^{n-2}}|1\\rangle)\\cdots(|0\\rangle+e^{2\\pi i\\theta2^0}|1\\rangle)|\\psi\\rangle$\n",
    "\n",
    "ステップ $n+1$後の$n$ビットレジスタの状態は、QFTで$j$を$2^n\\theta$としたものと同等であることが分かります。つまり、この$n$ビットレジスタに逆フーリエ変換QFT$^\\dagger$を施せば、状態$|2^n\\theta\\rangle$が得られることになります。この状態を測定することで$2^n\\theta$、つまり固有値の位相$\\theta$（を$2^n$倍したもの）を求めることができる、というのがQPEです（下図）。\n",
    "\n",
    "<img src=\"figs/qpe.png\" width=80%>"
   ],
   "metadata": {
    "collapsed": false,
    "pycharm": {
     "name": "#%% md\n"
    }
   }
  },
  {
   "cell_type": "markdown",
   "source": [
    "## ショアのアルゴリズム <a id='shor'></a>\n",
    "\n",
    "では、ショアのアルゴリズムの本題に入っていきましょう。ショアのアルゴリズムが考えるのは「ある正の合成数$N$を、自明ではない素数の積$N=qp$に分解する」という問題です。\n",
    "\n",
    "まず、整数の剰余についての表記法をおさらいしておきます。以下のような整数の並び$x$を考えたとき、例えば3で割った余りを$y$とすると\n",
    "\n",
    "|x|0|1|2|3|4|5|6|7|8|9|\n",
    "|-|-|-|-|-|-|-|-|-|-|-|\n",
    "|y|0|1|2|0|1|2|0|1|2|0|\n",
    "\n",
    "になります。この時、$x=y\\;(\\rm{mod}\\;3)$と書くものとします（$k$を0以上の整数とすれば、$x=3k+y$と書くこともできます）。\n",
    "\n",
    "ショアのアルゴリズムの流れを書くと、以下のようなフローチャートになります。黒字の部分は古典計算で実行し、青地の部分を量子コンピュータで実行することになります。アルゴリズムの一部でしか量子計算を使わないわけですが、この青地の部分を古典計算で実行するのが難しいわけですが、その理由は追々明らかになります。\n",
    "\n",
    "<img src=\"figs/shor_flow.png\" width=60%>"
   ],
   "metadata": {
    "collapsed": false
   }
  },
  {
   "cell_type": "markdown",
   "source": [
    "### 素因数分解の例 <a id='factoring_example'></a>\n",
    "簡単な例として、$N=15$の素因数分解をこのアルゴリズムに沿って考えてみましょう。\n",
    "\n",
    "例えば、15に素な数として$a=7$を選んだとします。そこで$7^x$を15で割った余りを$y$とすると\n",
    "\n",
    "|x|0|1|2|3|4|5|6|$\\cdots$|\n",
    "|-|-|-|-|-|-|-|-|-|\n",
    "|y|1|7|4|13|1|7|4|$\\cdots$|\n",
    "\n",
    "のようになります。つまり、$7^r=1\\;(\\rm{mod}\\;15)$を満たす最小の$r$は4になることが分かります。\n",
    "$r=4$は偶数なので、$x\\equiv7^{4/2}\\; (\\rm{mod}\\; 15)=4$と定義すると、$x+1=5\\neq0\\;(\\rm{mod}\\; 15)$なので、\n",
    "\n",
    "$$\n",
    "\\{p,q\\}=\\{\\gcd(5,15), \\gcd(3,15)\\}=\\{5,3\\}\n",
    "$$\n",
    "\n",
    "となって、$15=5\\times3$が得られました。"
   ],
   "metadata": {
    "collapsed": false,
    "pycharm": {
     "name": "#%% md\n"
    }
   }
  },
  {
   "cell_type": "markdown",
   "source": [
    "### 量子回路 <a id='shor_circuit'></a>\n",
    "$N=15$の素因数分解を実装する量子回路は、以下のような構成をしています。\n",
    "\n",
    "<img src=\"figs/shor.png\" width=80%>\n",
    "\n",
    "上段にある4個の量子ビットが測定用のレジスタ、下段の4個の量子ビットが作業用のレジスタに対応します。それぞれのレジスタが4つづつなのは、15が4ビットで表現できるからです（15の2進数表記は[1111]）。状態は全て$|0\\rangle$に初期化されているものとして、測定用ビットの状態を$|x\\rangle$、作業用ビットの状態を$|w\\rangle$とします。\n",
    "$U_f$は以下のようなオラクル\n",
    "\n",
    "<img src=\"figs/shor_oracle2.png\" width=30%>\n",
    "\n",
    "で、作業レジスタの出力状態が$|w\\oplus f(x)\\rangle$になるものと理解しておきます（詳細は後で説明します）。関数$f(x)$は$f(x)\\equiv a^x\\;(\\rm{mod}\\; N)$で定義されるものとします。\n",
    "\n",
    "では、回路のステップ 1-5ごとに量子状態を見ていきましょう。\n",
    "\n",
    "- ステップ 1 : $$\\frac{1}{\\sqrt{2^4}}\\left[\\sum_{j=0}^{2^4-1}|j\\rangle\\right]|0\\rangle^{\\otimes 4} = \\frac{1}{4}\\left[|0\\rangle+|1\\rangle+\\cdots+|15\\rangle\\right]|0\\rangle^{\\otimes 4}$$\n",
    "- ステップ 2 :\n",
    "$$\n",
    "\\begin{aligned}\n",
    "&\\frac{1}{4}\\left[|0\\rangle|0\\oplus7^0\\;(\\rm{mod}\\;15)\\rangle+|1\\rangle|0\\oplus7^1\\;(\\rm{mod}\\;15)\\rangle+\\cdots+|15\\rangle|0\\oplus7^{15}\\;(\\rm{mod}\\;15)\\rangle\\right]\\\\\n",
    "=&\\frac{1}{4}\\left[|0\\rangle|1\\rangle+|1\\rangle|7\\rangle+|2\\rangle|4\\rangle+|3\\rangle|13\\rangle+|4\\rangle|1\\rangle+\\cdots+|15\\rangle|13\\rangle\\right]\n",
    "\\end{aligned}\n",
    "$$\n",
    "\n",
    "ステップ 2の後に作業用ビットを測定します。$|w\\rangle$は$|1\\rangle$, $|7\\rangle$, $|4\\rangle$, $|13\\rangle$のどれかなので、例えば測定の結果13が得られたとします。その場合\n",
    "\n",
    "- ステップ 3 : $\\frac{1}{2}\\left[|3\\rangle+|7\\rangle+|11\\rangle+|15\\rangle\\right]$\n",
    "\n",
    "となります。次に、測定用ビットに逆フーリエ変換（$QFT^{-1}$）を適用します。逆フーリエ変換はある状態$|j\\rangle$を$|j\\rangle \\to \\frac{1}{\\sqrt{N}}\\sum_{k=0}^{N-1}e^{\\frac{-2\\pi ijk}{N}}|k\\rangle$に変換するので、\n",
    "\n",
    "- ステップ 4 :\n",
    "$$\n",
    "\\begin{aligned}\n",
    "&\\frac{1}{2}QFT^\\dagger\\left[|3\\rangle+|7\\rangle+|11\\rangle+|15\\rangle\\right]\\\\\n",
    "=&\\frac{1}{2}\\frac1{\\sqrt{2^4}}\\sum_{k=0}^{2^4-1}\\left[e^{\\frac{-2\\pi i\\cdot3k}{2^4}}+e^{\\frac{-2\\pi i\\cdot7k}{2^4}}+e^{\\frac{-2\\pi i\\cdot11k}{2^4}}+e^{\\frac{-2\\pi i\\cdot15k}{2^4}}\\right]|k\\rangle\\\\\n",
    "=&\\frac{1}{8}\\left[4|0\\rangle+4i|4\\rangle-4|8\\rangle-4i|12\\rangle\\right]\n",
    "\\end{aligned}\n",
    "$$\n",
    "\n",
    "- ステップ 5 : 測定用ビットを測定すると、0, 4, 8, 12がそれぞれ1/4の確率で得られます。"
   ],
   "metadata": {
    "collapsed": false
   }
  },
  {
   "cell_type": "markdown",
   "source": [
    "### 連分数展開 <a id='continued_fractions'></a>\n"
   ],
   "metadata": {
    "collapsed": false
   }
  },
  {
   "cell_type": "markdown",
   "source": [
    "## アルゴリズムの実装 <a id='imp'></a>\n",
    "ここから、ショアのアルゴリズムを実装していきます。"
   ],
   "metadata": {
    "collapsed": false
   }
  },
  {
   "cell_type": "code",
   "execution_count": null,
   "outputs": [],
   "source": [
    "import matplotlib.pyplot as plt\n",
    "import numpy as np\n",
    "from qiskit import QuantumCircuit, Aer, execute\n",
    "from qiskit.visualization import plot_histogram\n",
    "from math import gcd\n",
    "from numpy.random import randint\n",
    "from tabulate import tabulate\n",
    "from fractions import Fraction"
   ],
   "metadata": {
    "collapsed": false,
    "pycharm": {
     "name": "#%%\n"
    }
   }
  },
  {
   "cell_type": "markdown",
   "source": [
    "### 位数の発見 <a id='imp_period'></a>\n",
    "まず最初に、繰り返しの位数（周期）を発見するアルゴリズムを見てみます。\n",
    "\n",
    "$N$を正の整数として、関数$f(x)=a^x\\;({\\rm mod}\\;N)$の振る舞いを見ます。ここで、$a$は$N$と互いに素な$N$未満の正の整数で、\n",
    "位数$r$は$a^r=1\\;({\\rm mod}\\;N)$を満たす非ゼロの最小の整数です。\n",
    "以下のグラフにこの関数の例を示します。 ポイント間の線は周期性を確認するためのものであり、x印の間の中間値を表していないことに注意してください。"
   ],
   "metadata": {
    "collapsed": false,
    "pycharm": {
     "name": "#%%　md\n"
    }
   }
  },
  {
   "cell_type": "code",
   "execution_count": null,
   "outputs": [],
   "source": [
    "N = 35\n",
    "a = 3\n",
    "\n",
    "# プロットするデータを計算する\n",
    "xvals = np.arange(35)\n",
    "yvals = [np.mod(a**x, N) for x in xvals]\n",
    "\n",
    "# matplotlibを使って描画\n",
    "fig, ax = plt.subplots()\n",
    "ax.plot(xvals, yvals, linewidth=1, linestyle='dotted', marker='x')\n",
    "ax.set(xlabel='$x$', ylabel='$%i^x$ mod $%i$' % (a, N),\n",
    "       title=\"Example of Periodic Function in Shor's Algorithm\")\n",
    "try: # グラフ上にrをプロット\n",
    "    r = yvals[1:].index(1) +1\n",
    "    plt.annotate(text='', xy=(0,1), xytext=(r,1), arrowprops=dict(arrowstyle='<->'))\n",
    "    plt.annotate(text='$r=%i$' % r, xy=(r/3,1.5))\n",
    "except:\n",
    "    print('Could not find period, check a < N and have no common factors.')"
   ],
   "metadata": {
    "collapsed": false,
    "pycharm": {
     "name": "#%%\n"
    }
   }
  },
  {
   "cell_type": "markdown",
   "source": [
    "### オラクルの実装 <a id='imp_oracle'></a>\n",
    "ショアのアルゴリズムの量子回路への実装として、$|w\\rangle=|0\\rangle^{\\otimes n}$を初期状態として、$U_f|x\\rangle|w\\rangle=|x\\rangle|w\\oplus f(x)\\rangle$となるオラクル$U_f$を考えました。この$U_f$を実装するために、以下のようなユニタリー演算子を考えます。\n",
    "\n",
    "$$\n",
    "U|t\\rangle=|at\\;({\\rm mod}\\;N)\\rangle\n",
    "$$\n",
    "\n",
    "このユニタリーは、$t=1$のとき$U|1\\rangle=|a\\;({\\rm mod}\\;N)\\rangle$になるので、$w=0$とした$U_f|x\\rangle|0\\rangle$を以下のように$U$を使って実装することができます。\n",
    "\n",
    "$$\n",
    "U_f|x\\rangle|0\\rangle=|x\\rangle|a^x\\;({\\rm mod}\\;N)\\rangle=U^x|x\\rangle|1\\rangle\n",
    "$$\n",
    "\n",
    "以下では、$N=15$の素因数に分解してみます。$U|t\\rangle=|at\\;({\\rm mod}\\;N)\\rangle$を実装する関数U_amod15は以下のようになります。"
   ],
   "metadata": {
    "collapsed": false
   }
  },
  {
   "cell_type": "code",
   "execution_count": null,
   "outputs": [],
   "source": [
    "def c_amod15(a, power):\n",
    "    \"\"\"mod 15による制御ゲートをかける\"\"\"\n",
    "    if a not in [2,7,8,11,13]:\n",
    "        raise ValueError(\"'a' must be 2,7,8,11 or 13\")\n",
    "    U = QuantumCircuit(4)\n",
    "    for iteration in range(power):\n",
    "        if a in [2,13]:\n",
    "            U.swap(0,1)\n",
    "            U.swap(1,2)\n",
    "            U.swap(2,3)\n",
    "        if a in [7,8]:\n",
    "            U.swap(2,3)\n",
    "            U.swap(1,2)\n",
    "            U.swap(0,1)\n",
    "        if a == 11:\n",
    "            U.swap(1,3)\n",
    "            U.swap(0,2)\n",
    "        if a in [7,11,13]:\n",
    "            for q in range(4):\n",
    "                U.x(q)\n",
    "    U = U.to_gate()\n",
    "    U.name = \"%i^%i mod 15\" % (a, power)\n",
    "    c_U = U.control()\n",
    "    return c_U"
   ],
   "metadata": {
    "collapsed": false,
    "pycharm": {
     "name": "#%%\n"
    }
   }
  },
  {
   "cell_type": "markdown",
   "source": [
    "### 回路全体の実装 <a id='imp_circuit'></a>\n",
    "\n",
    "測定用ビットとして8量子ビットを使います："
   ],
   "metadata": {
    "collapsed": false,
    "pycharm": {
     "name": "#%%　md\n"
    }
   }
  },
  {
   "cell_type": "code",
   "execution_count": null,
   "outputs": [],
   "source": [
    "# Specify variables\n",
    "n_count = 8 # number of counting qubits\n",
    "a = 7\n"
   ],
   "metadata": {
    "collapsed": false,
    "pycharm": {
     "name": "#%%\n"
    }
   }
  },
  {
   "cell_type": "markdown",
   "source": [
    "また、逆QFT\n",
    "の回路も与えます（詳細については、量子フーリエ変換の章を参照してください）："
   ],
   "metadata": {
    "collapsed": false
   }
  },
  {
   "cell_type": "code",
   "execution_count": null,
   "outputs": [],
   "source": [
    "def qft_dagger(n):\n",
    "    \"\"\"n量子ビットの逆QFTを回路の最初のn量子ビットにかける\"\"\"\n",
    "    qc = QuantumCircuit(n)\n",
    "    # Swapsを忘れない!\n",
    "    for qubit in range(n//2):\n",
    "        qc.swap(qubit, n-qubit-1)\n",
    "    for j in range(n):\n",
    "        for m in range(j):\n",
    "            qc.cu1(-np.pi/float(2**(j-m)), m, j)\n",
    "        qc.h(j)\n",
    "    qc.name = \"QFT$^\\dagger$\"\n",
    "    return qc"
   ],
   "metadata": {
    "collapsed": false,
    "pycharm": {
     "name": "#%%\n"
    }
   }
  },
  {
   "cell_type": "markdown",
   "source": [
    "これらのビルディングブロックを使用して、ショアのアルゴリズムの回路を簡単に構築できます："
   ],
   "metadata": {
    "collapsed": false,
    "pycharm": {
     "name": "#%%　md\n"
    }
   }
  },
  {
   "cell_type": "code",
   "execution_count": null,
   "outputs": [],
   "source": [
    "# n_count個の測定用量子ビットとUを操作するための4量子ビットで\n",
    "# 量子回路を作る\n",
    "qc = QuantumCircuit(n_count + 4, n_count)\n",
    "\n",
    "# 測定用量子ビットを\n",
    "# |+>状態に初期化\n",
    "for q in range(n_count):\n",
    "    qc.h(q)\n",
    "\n",
    "# アンシラレジスターを|1>の状態にする\n",
    "qc.x(3+n_count)\n",
    "\n",
    "# 制御Uを操作\n",
    "for q in range(n_count):\n",
    "    qc.append(c_amod15(a, 2**q),\n",
    "             [q] + [i+n_count for i in range(4)])\n",
    "\n",
    "# 逆QFTを操作\n",
    "qc.append(qft_dagger(n_count), range(n_count))\n",
    "\n",
    "# 回路を測定\n",
    "qc.measure(range(n_count), range(n_count))\n",
    "qc.draw('text')\n"
   ],
   "metadata": {
    "collapsed": false,
    "pycharm": {
     "name": "#%%\n"
    }
   }
  }
 ],
 "metadata": {
  "kernelspec": {
   "display_name": "Python 3",
   "language": "python",
   "name": "python3"
  },
  "language_info": {
   "codemirror_mode": {
    "name": "ipython",
    "version": 3
   },
   "file_extension": ".py",
   "mimetype": "text/x-python",
   "name": "python",
   "nbconvert_exporter": "python",
   "pygments_lexer": "ipython3",
   "version": "3.6.7"
  }
 },
 "nbformat": 4,
 "nbformat_minor": 1
}